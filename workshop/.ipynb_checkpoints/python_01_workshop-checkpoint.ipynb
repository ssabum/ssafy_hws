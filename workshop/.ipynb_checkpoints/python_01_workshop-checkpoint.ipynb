{
 "cells": [
  {
   "cell_type": "markdown",
   "metadata": {},
   "source": [
    "# Workshop\n",
    "> 데이터 & 제어문"
   ]
  },
  {
   "cell_type": "markdown",
   "metadata": {},
   "source": [
    "## 1. 세로로 출력하기\n",
    "\n",
    "> 자연수 number를 입력 받아, 1부터 number까지의 수를 세로로 한줄씩 출력하시오.\n",
    "\n",
    "---\n",
    "```\n",
    "[입력 예시]\n",
    "\n",
    "10\n",
    "\n",
    "[출력 예시]\n",
    "1\n",
    "2\n",
    "3\n",
    "4\n",
    "5\n",
    "6\n",
    "7\n",
    "8\n",
    "9\n",
    "10\n",
    "```"
   ]
  },
  {
   "cell_type": "code",
   "execution_count": null,
   "metadata": {
    "scrolled": false
   },
   "outputs": [],
   "source": [
    "number = int(input())\n",
    "\n",
    "# 아래에 코드를 작성하시오.\n",
    "for i in range(1, number + 1):\n",
    "    print(i)\n",
    "    # print(i, end=' ')\n",
    "\n"
   ]
  },
  {
   "cell_type": "markdown",
   "metadata": {},
   "source": [
    "## 2. 거꾸로 세로로 출력하기\n",
    "\n",
    "> 자연수 number를 입력 받아, number부터 1까지의 수를 세로로 한줄씩 출력하시오.\n",
    "\n",
    "---\n",
    "```\n",
    "[입력 예시]\n",
    "5\n",
    "\n",
    "[출력 예시]\n",
    "5\n",
    "4\n",
    "3\n",
    "2\n",
    "1\n",
    "```"
   ]
  },
  {
   "cell_type": "code",
   "execution_count": null,
   "metadata": {
    "scrolled": true
   },
   "outputs": [],
   "source": [
    "number = int(input())\n",
    "\n",
    "# 아래에 코드를 작성하시오.\n",
    "for i in range(number):\n",
    "    print(number - i)"
   ]
  },
  {
   "cell_type": "code",
   "execution_count": null,
   "metadata": {},
   "outputs": [],
   "source": [
    "number = int(input())\n",
    "for i in range(number, 0, -1):\n",
    "    print(i)"
   ]
  },
  {
   "cell_type": "code",
   "execution_count": 1,
   "metadata": {},
   "outputs": [
    {
     "name": "stdout",
     "output_type": "stream",
     "text": [
      "5\n",
      "5\n",
      "4\n",
      "3\n",
      "2\n",
      "1\n",
      "0\n"
     ]
    }
   ],
   "source": [
    "i = 0\n",
    "my_list = []\n",
    "num = int(input())\n",
    "\n",
    "while i <= num: # while문을 사용해서 my_list 생성\n",
    "    my_list.append(i) # 만약 5를 입력하면 my_list = [0, 1, 2, 3, 4, 5]\n",
    "    i += 1\n",
    "    \n",
    "for i in my_list[::-1]: # my_list[::-1] = [5, 4, 3, 2, 1, 0]\n",
    "    print(i) # 차례로 출력"
   ]
  },
  {
   "cell_type": "markdown",
   "metadata": {},
   "source": [
    "## 3. N줄 덧셈 (SWEA #2025)\n",
    "\n",
    "> 입력으로 자연수 number가 주어질 때, 1부터 주어진 자연수 number까지를 모두 더한 값을 출력하시오. 단, 주어지는 숫자는 10000을 넘지 않는다. 예를 들어, 주어진 숫자가 10일 경우 1 + 2 + 3 + 4 + 5 + 6 + 7 + 8 + 9 + 10 = 55이므로, 출력해야 할 값은 55이다.\n",
    "\n",
    "---\n",
    "```\n",
    "[입력 예시]\n",
    "10\n",
    "\n",
    "[출력 예시]\n",
    "55\n",
    "```"
   ]
  },
  {
   "cell_type": "code",
   "execution_count": null,
   "metadata": {},
   "outputs": [],
   "source": [
    "number = int(input())\n",
    "\n",
    "# 아래에 코드를 작성하시오.\n",
    "n = 1\n",
    "tot = 0\n",
    "for i in range(1, number + 1):\n",
    "    tot += n\n",
    "    n += 1\n",
    "print(tot)"
   ]
  }
 ],
 "metadata": {
  "kernelspec": {
   "display_name": "Python 3",
   "language": "python",
   "name": "python3"
  },
  "language_info": {
   "codemirror_mode": {
    "name": "ipython",
    "version": 3
   },
   "file_extension": ".py",
   "mimetype": "text/x-python",
   "name": "python",
   "nbconvert_exporter": "python",
   "pygments_lexer": "ipython3",
   "version": "3.8.7"
  },
  "toc": {
   "base_numbering": 1,
   "nav_menu": {},
   "number_sections": true,
   "sideBar": true,
   "skip_h1_title": false,
   "title_cell": "Table of Contents",
   "title_sidebar": "Contents",
   "toc_cell": false,
   "toc_position": {},
   "toc_section_display": true,
   "toc_window_display": false
  }
 },
 "nbformat": 4,
 "nbformat_minor": 4
}
