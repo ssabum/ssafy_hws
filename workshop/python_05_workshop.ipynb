{
 "cells": [
  {
   "cell_type": "code",
   "execution_count": 3,
   "id": "equipped-astrology",
   "metadata": {},
   "outputs": [],
   "source": [
    "# 평균점수구하기\n",
    "def get_dict_avg(my_dict):\n",
    "    tot = 0\n",
    "    cnt = 0\n",
    "    for val in my_dict.values():\n",
    "        tot += val\n",
    "        cnt += 1\n",
    "    return tot / cnt"
   ]
  },
  {
   "cell_type": "code",
   "execution_count": 4,
   "id": "sexual-karen",
   "metadata": {},
   "outputs": [
    {
     "data": {
      "text/plain": [
       "85.5"
      ]
     },
     "execution_count": 4,
     "metadata": {},
     "output_type": "execute_result"
    }
   ],
   "source": [
    "get_dict_avg({'python': 80, 'algorithm': 90, 'django': 89, 'web': 83})"
   ]
  },
  {
   "cell_type": "code",
   "execution_count": 6,
   "id": "personal-print",
   "metadata": {},
   "outputs": [],
   "source": [
    "# 혈액형 분류하기\n",
    "def count_blood(my_list):\n",
    "    cnt = {}\n",
    "    for blood in my_list:\n",
    "        cnt[blood] = cnt.get(blood, 0) + 1\n",
    "    return cnt"
   ]
  },
  {
   "cell_type": "code",
   "execution_count": 7,
   "id": "delayed-times",
   "metadata": {},
   "outputs": [
    {
     "data": {
      "text/plain": [
       "{'a': 3, 'b': 3, 'o': 3, 'ab': 3}"
      ]
     },
     "execution_count": 7,
     "metadata": {},
     "output_type": "execute_result"
    }
   ],
   "source": [
    "count_blood(['a', 'b', 'a', 'o', 'ab', 'ab', 'o', 'a', 'b', 'o', 'b', 'ab'])"
   ]
  }
 ],
 "metadata": {
  "hide_input": false,
  "kernelspec": {
   "display_name": "Python 3",
   "language": "python",
   "name": "python3"
  },
  "language_info": {
   "codemirror_mode": {
    "name": "ipython",
    "version": 3
   },
   "file_extension": ".py",
   "mimetype": "text/x-python",
   "name": "python",
   "nbconvert_exporter": "python",
   "pygments_lexer": "ipython3",
   "version": "3.8.7"
  },
  "toc": {
   "base_numbering": 1,
   "nav_menu": {},
   "number_sections": true,
   "sideBar": true,
   "skip_h1_title": false,
   "title_cell": "Table of Contents",
   "title_sidebar": "Contents",
   "toc_cell": false,
   "toc_position": {},
   "toc_section_display": true,
   "toc_window_display": false
  },
  "varInspector": {
   "cols": {
    "lenName": 16,
    "lenType": 16,
    "lenVar": 40
   },
   "kernels_config": {
    "python": {
     "delete_cmd_postfix": "",
     "delete_cmd_prefix": "del ",
     "library": "var_list.py",
     "varRefreshCmd": "print(var_dic_list())"
    },
    "r": {
     "delete_cmd_postfix": ") ",
     "delete_cmd_prefix": "rm(",
     "library": "var_list.r",
     "varRefreshCmd": "cat(var_dic_list()) "
    }
   },
   "types_to_exclude": [
    "module",
    "function",
    "builtin_function_or_method",
    "instance",
    "_Feature"
   ],
   "window_display": false
  }
 },
 "nbformat": 4,
 "nbformat_minor": 5
}
