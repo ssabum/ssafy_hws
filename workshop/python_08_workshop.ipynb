{
 "cells": [
  {
   "cell_type": "code",
   "execution_count": 12,
   "id": "living-commissioner",
   "metadata": {},
   "outputs": [],
   "source": [
    "# 도형만들기\n",
    "# point 클래스\n",
    "class Point:\n",
    "    # 입력값이 없으면 영점으로 입력됩니다.\n",
    "    def __init__(self, x=0, y=0):\n",
    "        # 각각 x, y 좌표 설정\n",
    "        self.x = x\n",
    "        self.y = y\n",
    "        \n",
    "# rectanlge 클래스\n",
    "class Rectangle:\n",
    "    # 생성자 생성\n",
    "    def __init__(self, p1=Point(0, 0), p2=Point(0,0)):\n",
    "        # 인스턴스를 전달받아 인스턴스 변수로 저장\n",
    "        # p1, p2는 point 인스턴스가 들어간다\n",
    "        self.p1 = p1\n",
    "        self.p2 = p2\n",
    "        # 가로와 세로 길이를 인스턴스 변수화\n",
    "        self.width = abs(p1.x - p2.x)\n",
    "        self.height = abs(p1.y - p2.y)\n",
    "    \n",
    "    # 넓이를 구하는 함수\n",
    "    def get_area(self):\n",
    "        return self.width * self.height\n",
    "    # 둘레를 구하는 함수\n",
    "    def get_perimeter(self):\n",
    "        return (self.width + self.height) * 2\n",
    "    # 정사각형인지 구하는 함수\n",
    "    def is_square(self):\n",
    "        if self.width == self.height:\n",
    "            return True\n",
    "        return False"
   ]
  },
  {
   "cell_type": "code",
   "execution_count": 13,
   "id": "choice-sample",
   "metadata": {},
   "outputs": [
    {
     "data": {
      "text/plain": [
       "3"
      ]
     },
     "execution_count": 13,
     "metadata": {},
     "output_type": "execute_result"
    }
   ],
   "source": [
    "p1 = Point(1, 3)\n",
    "p1.y"
   ]
  },
  {
   "cell_type": "code",
   "execution_count": 14,
   "id": "proud-oasis",
   "metadata": {},
   "outputs": [],
   "source": [
    "p2 = Point(3, 1)"
   ]
  },
  {
   "cell_type": "code",
   "execution_count": 15,
   "id": "global-discovery",
   "metadata": {},
   "outputs": [],
   "source": [
    "r1 = Rectangle(p1, p2)"
   ]
  },
  {
   "cell_type": "code",
   "execution_count": 16,
   "id": "chinese-malpractice",
   "metadata": {},
   "outputs": [
    {
     "name": "stdout",
     "output_type": "stream",
     "text": [
      "<__main__.Point object at 0x00000223A2629370>\n"
     ]
    }
   ],
   "source": [
    "print(r1.p1)"
   ]
  },
  {
   "cell_type": "code",
   "execution_count": 17,
   "id": "wrong-worthy",
   "metadata": {},
   "outputs": [
    {
     "data": {
      "text/plain": [
       "4"
      ]
     },
     "execution_count": 17,
     "metadata": {},
     "output_type": "execute_result"
    }
   ],
   "source": [
    "r1.get_area()"
   ]
  },
  {
   "cell_type": "code",
   "execution_count": 18,
   "id": "square-volunteer",
   "metadata": {},
   "outputs": [
    {
     "data": {
      "text/plain": [
       "8"
      ]
     },
     "execution_count": 18,
     "metadata": {},
     "output_type": "execute_result"
    }
   ],
   "source": [
    "r1.get_perimeter()"
   ]
  },
  {
   "cell_type": "code",
   "execution_count": 19,
   "id": "basic-paradise",
   "metadata": {},
   "outputs": [
    {
     "data": {
      "text/plain": [
       "True"
      ]
     },
     "execution_count": 19,
     "metadata": {},
     "output_type": "execute_result"
    }
   ],
   "source": [
    "r1.is_square()"
   ]
  },
  {
   "cell_type": "code",
   "execution_count": 20,
   "id": "promising-better",
   "metadata": {},
   "outputs": [
    {
     "data": {
      "text/plain": [
       "<__main__.Point at 0x223a2629370>"
      ]
     },
     "execution_count": 20,
     "metadata": {},
     "output_type": "execute_result"
    }
   ],
   "source": [
    "r1.p1"
   ]
  }
 ],
 "metadata": {
  "kernelspec": {
   "display_name": "Python 3",
   "language": "python",
   "name": "python3"
  },
  "language_info": {
   "codemirror_mode": {
    "name": "ipython",
    "version": 3
   },
   "file_extension": ".py",
   "mimetype": "text/x-python",
   "name": "python",
   "nbconvert_exporter": "python",
   "pygments_lexer": "ipython3",
   "version": "3.8.7"
  }
 },
 "nbformat": 4,
 "nbformat_minor": 5
}
