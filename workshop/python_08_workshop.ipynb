{
 "cells": [
  {
   "cell_type": "code",
   "execution_count": 62,
   "id": "recorded-adult",
   "metadata": {},
   "outputs": [],
   "source": [
    "# 도형만들기\n",
    "# point 클래스\n",
    "class Point:\n",
    "    # 입력값이 없으면 영점으로 입력됩니다.\n",
    "    def __init__(self, x=0, y=0):\n",
    "        # 각각 x, y 좌표 설정\n",
    "        self.x = x\n",
    "        self.y = y\n",
    "        \n",
    "# rectanlge 클래스\n",
    "class Rectangle:\n",
    "    # 생성자 생성\n",
    "    def __init__(self, p1=Point(0, 0), p2=Point(0,0)):\n",
    "        self.p1 = p1\n",
    "        self.p2 = p2\n",
    "        # 가로와 세로 길이를 인스턴스 변수화\n",
    "        self.width = abs(self.p1.x - self.p2.x)\n",
    "        self.height = abs(self.p1.y - self.p2.y)\n",
    "    \n",
    "    # 넓이를 구하는 함수\n",
    "    def get_area(self):\n",
    "        return self.width * self.height\n",
    "    # 둘레를 구하는 함수\n",
    "    def get_perimeter(self):\n",
    "        return (self.width + self.height) * 2\n",
    "    # 정사각형인지 구하는 함수\n",
    "    def is_square(self):\n",
    "        if self.width == self.height:\n",
    "            return True\n",
    "        return False"
   ]
  },
  {
   "cell_type": "code",
   "execution_count": 56,
   "id": "talented-accused",
   "metadata": {},
   "outputs": [],
   "source": [
    "p1 = Point(1, 3)"
   ]
  },
  {
   "cell_type": "code",
   "execution_count": 57,
   "id": "molecular-consortium",
   "metadata": {},
   "outputs": [],
   "source": [
    "p2 = Point(3, 1)"
   ]
  },
  {
   "cell_type": "code",
   "execution_count": 58,
   "id": "adapted-capital",
   "metadata": {},
   "outputs": [],
   "source": [
    "r1 = Rectangle(p1, p2)"
   ]
  },
  {
   "cell_type": "code",
   "execution_count": 59,
   "id": "superb-exclusion",
   "metadata": {},
   "outputs": [
    {
     "data": {
      "text/plain": [
       "4"
      ]
     },
     "execution_count": 59,
     "metadata": {},
     "output_type": "execute_result"
    }
   ],
   "source": [
    "r1.get_area()"
   ]
  },
  {
   "cell_type": "code",
   "execution_count": 60,
   "id": "manufactured-hampton",
   "metadata": {},
   "outputs": [
    {
     "data": {
      "text/plain": [
       "8"
      ]
     },
     "execution_count": 60,
     "metadata": {},
     "output_type": "execute_result"
    }
   ],
   "source": [
    "r1.get_perimeter()"
   ]
  },
  {
   "cell_type": "code",
   "execution_count": 61,
   "id": "activated-luxury",
   "metadata": {},
   "outputs": [
    {
     "data": {
      "text/plain": [
       "True"
      ]
     },
     "execution_count": 61,
     "metadata": {},
     "output_type": "execute_result"
    }
   ],
   "source": [
    "r1.is_square()"
   ]
  }
 ],
 "metadata": {
  "kernelspec": {
   "display_name": "Python 3",
   "language": "python",
   "name": "python3"
  },
  "language_info": {
   "codemirror_mode": {
    "name": "ipython",
    "version": 3
   },
   "file_extension": ".py",
   "mimetype": "text/x-python",
   "name": "python",
   "nbconvert_exporter": "python",
   "pygments_lexer": "ipython3",
   "version": "3.8.7"
  }
 },
 "nbformat": 4,
 "nbformat_minor": 5
}
