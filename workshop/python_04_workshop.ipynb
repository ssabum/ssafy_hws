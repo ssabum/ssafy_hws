{
 "cells": [
  {
   "cell_type": "code",
   "execution_count": 2,
   "id": "significant-dealing",
   "metadata": {},
   "outputs": [
    {
     "name": "stdout",
     "output_type": "stream",
     "text": [
      "A 65\n"
     ]
    }
   ],
   "source": [
    "print(chr(65), ord('A'))"
   ]
  },
  {
   "cell_type": "code",
   "execution_count": 3,
   "id": "other-accountability",
   "metadata": {},
   "outputs": [],
   "source": [
    "# 숫자의 의미\n",
    "def get_secret_word(my_list):\n",
    "    res = ''\n",
    "    for num in my_list:\n",
    "        res += chr(num)\n",
    "    return res"
   ]
  },
  {
   "cell_type": "code",
   "execution_count": 4,
   "id": "caroline-aggregate",
   "metadata": {},
   "outputs": [
    {
     "data": {
      "text/plain": [
       "'SsAfY'"
      ]
     },
     "execution_count": 4,
     "metadata": {},
     "output_type": "execute_result"
    }
   ],
   "source": [
    "get_secret_word([83, 115, 65, 102, 89])"
   ]
  },
  {
   "cell_type": "code",
   "execution_count": 2,
   "id": "public-organic",
   "metadata": {},
   "outputs": [],
   "source": [
    "# 내 이름은 몇일까?\n",
    "def get_secret_number(my_str):\n",
    "    res = 0\n",
    "    for char in my_str:\n",
    "        res += ord(char)\n",
    "    return res"
   ]
  },
  {
   "cell_type": "code",
   "execution_count": 6,
   "id": "listed-pickup",
   "metadata": {},
   "outputs": [
    {
     "data": {
      "text/plain": [
       "336"
      ]
     },
     "execution_count": 6,
     "metadata": {},
     "output_type": "execute_result"
    }
   ],
   "source": [
    "get_secret_number('tom')"
   ]
  },
  {
   "cell_type": "code",
   "execution_count": 4,
   "id": "postal-witness",
   "metadata": {},
   "outputs": [],
   "source": [
    "def get_strong(str1, str2):\n",
    "    res1 = get_secret_number(str1)\n",
    "    res2 = get_secret_number(str2)\n",
    "    if res1 > res2:\n",
    "        return str1\n",
    "    return str2"
   ]
  },
  {
   "cell_type": "code",
   "execution_count": 6,
   "id": "numeric-alliance",
   "metadata": {},
   "outputs": [
    {
     "data": {
      "text/plain": [
       "'john'"
      ]
     },
     "execution_count": 6,
     "metadata": {},
     "output_type": "execute_result"
    }
   ],
   "source": [
    "get_strong('tom', 'john')"
   ]
  },
  {
   "cell_type": "code",
   "execution_count": 11,
   "id": "hungry-wales",
   "metadata": {},
   "outputs": [],
   "source": [
    "# 강한 이름\n",
    "def get_strong_word(str1, str2):\n",
    "    res1 = 0\n",
    "    res2 = 0\n",
    "    for char in str1:\n",
    "        res1 += ord(char)\n",
    "    for char in str2:\n",
    "        res2 += ord(char)\n",
    "    if res1 > res2:\n",
    "        return str1\n",
    "    return str2"
   ]
  },
  {
   "cell_type": "code",
   "execution_count": 13,
   "id": "conservative-imaging",
   "metadata": {},
   "outputs": [
    {
     "data": {
      "text/plain": [
       "'z'"
      ]
     },
     "execution_count": 13,
     "metadata": {},
     "output_type": "execute_result"
    }
   ],
   "source": [
    "get_strong_word('z', 'a')"
   ]
  },
  {
   "cell_type": "code",
   "execution_count": 14,
   "id": "specified-partition",
   "metadata": {},
   "outputs": [
    {
     "data": {
      "text/plain": [
       "'john'"
      ]
     },
     "execution_count": 14,
     "metadata": {},
     "output_type": "execute_result"
    }
   ],
   "source": [
    "get_strong_word('tom', 'john')"
   ]
  }
 ],
 "metadata": {
  "kernelspec": {
   "display_name": "Python 3",
   "language": "python",
   "name": "python3"
  },
  "language_info": {
   "codemirror_mode": {
    "name": "ipython",
    "version": 3
   },
   "file_extension": ".py",
   "mimetype": "text/x-python",
   "name": "python",
   "nbconvert_exporter": "python",
   "pygments_lexer": "ipython3",
   "version": "3.8.7"
  },
  "toc": {
   "base_numbering": 1,
   "nav_menu": {},
   "number_sections": true,
   "sideBar": true,
   "skip_h1_title": false,
   "title_cell": "Table of Contents",
   "title_sidebar": "Contents",
   "toc_cell": false,
   "toc_position": {},
   "toc_section_display": true,
   "toc_window_display": false
  }
 },
 "nbformat": 4,
 "nbformat_minor": 5
}
