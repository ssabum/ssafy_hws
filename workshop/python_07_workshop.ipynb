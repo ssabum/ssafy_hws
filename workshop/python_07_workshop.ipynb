{
 "cells": [
  {
   "cell_type": "code",
   "execution_count": 1,
   "id": "indian-worth",
   "metadata": {},
   "outputs": [],
   "source": [
    "# pip install faker\n",
    "#\n",
    "# faker 라이브러리 설치"
   ]
  },
  {
   "cell_type": "code",
   "execution_count": 2,
   "id": "defined-requirement",
   "metadata": {},
   "outputs": [
    {
     "data": {
      "text/plain": [
       "'\\nfrom faker import Faker # faker 패키지의 Faker class를 불러오는 코드\\nfake = Faker() # Faker는 클래스, faker는 인스턴스\\nfake.name() # 인스턴스 메서드\\n'"
      ]
     },
     "execution_count": 2,
     "metadata": {},
     "output_type": "execute_result"
    }
   ],
   "source": [
    "'''\n",
    "from faker import Faker # faker 패키지의 Faker class를 불러오는 코드\n",
    "fake = Faker() # Faker는 클래스, faker는 인스턴스\n",
    "fake.name() # 인스턴스 메서드\n",
    "'''"
   ]
  },
  {
   "cell_type": "code",
   "execution_count": 6,
   "id": "composed-investigation",
   "metadata": {},
   "outputs": [],
   "source": [
    "class Faker():\n",
    "    def __init__(self, language='en_US'):\n",
    "        self.name = language"
   ]
  },
  {
   "cell_type": "code",
   "execution_count": 8,
   "id": "indie-rachel",
   "metadata": {},
   "outputs": [
    {
     "data": {
      "text/plain": [
       "0.20389780407903002"
      ]
     },
     "execution_count": 8,
     "metadata": {},
     "output_type": "execute_result"
    }
   ],
   "source": [
    "import random\n",
    "\n",
    "random.random()"
   ]
  },
  {
   "cell_type": "code",
   "execution_count": 10,
   "id": "antique-groove",
   "metadata": {},
   "outputs": [
    {
     "data": {
      "text/plain": [
       "0.22933408950153078"
      ]
     },
     "execution_count": 10,
     "metadata": {},
     "output_type": "execute_result"
    }
   ],
   "source": [
    "random.seed(777)\n",
    "random.random()"
   ]
  },
  {
   "cell_type": "code",
   "execution_count": 13,
   "id": "cellular-upgrade",
   "metadata": {},
   "outputs": [
    {
     "data": {
      "text/plain": [
       "0.22933408950153078"
      ]
     },
     "execution_count": 13,
     "metadata": {},
     "output_type": "execute_result"
    }
   ],
   "source": [
    "random.seed(777)\n",
    "random.random()"
   ]
  },
  {
   "cell_type": "code",
   "execution_count": 19,
   "id": "above-norway",
   "metadata": {},
   "outputs": [
    {
     "name": "stdout",
     "output_type": "stream",
     "text": [
      "이도윤\n"
     ]
    }
   ],
   "source": [
    "from faker import Faker\n",
    "\n",
    "fake = Faker('ko_KR')\n",
    "Faker.seed(4321)\n",
    "print(fake.name())"
   ]
  },
  {
   "cell_type": "code",
   "execution_count": 20,
   "id": "parliamentary-vatican",
   "metadata": {},
   "outputs": [
    {
     "name": "stdout",
     "output_type": "stream",
     "text": [
      "이지후\n"
     ]
    }
   ],
   "source": [
    "fake2 = Faker('ko_KR')\n",
    "print(fake2.name())"
   ]
  },
  {
   "cell_type": "code",
   "execution_count": 21,
   "id": "bronze-contrast",
   "metadata": {},
   "outputs": [
    {
     "name": "stdout",
     "output_type": "stream",
     "text": [
      "이도윤\n"
     ]
    }
   ],
   "source": [
    "fake = Faker('ko_KR')\n",
    "fake.seed_instance(4321)\n",
    "print(fake.name())"
   ]
  },
  {
   "cell_type": "code",
   "execution_count": 22,
   "id": "close-soccer",
   "metadata": {},
   "outputs": [
    {
     "name": "stdout",
     "output_type": "stream",
     "text": [
      "김광수\n"
     ]
    }
   ],
   "source": [
    "fake2 = Faker('ko_KR')\n",
    "print(fake2.name())"
   ]
  }
 ],
 "metadata": {
  "kernelspec": {
   "display_name": "Python 3",
   "language": "python",
   "name": "python3"
  },
  "language_info": {
   "codemirror_mode": {
    "name": "ipython",
    "version": 3
   },
   "file_extension": ".py",
   "mimetype": "text/x-python",
   "name": "python",
   "nbconvert_exporter": "python",
   "pygments_lexer": "ipython3",
   "version": "3.8.7"
  }
 },
 "nbformat": 4,
 "nbformat_minor": 5
}
