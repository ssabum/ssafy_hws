{
 "cells": [
  {
   "cell_type": "code",
   "execution_count": 9,
   "id": "horizontal-robinson",
   "metadata": {},
   "outputs": [],
   "source": [
    "# 무엇이 중복일까\n",
    "def duplicated_letters(my_str):\n",
    "    # 결과 출력 리스트 생성\n",
    "    res = []\n",
    "    \n",
    "    # 문자열을 돌며 반복\n",
    "    for i in my_str:\n",
    "        \n",
    "        # 만약 해당 문자가 문자열에 2번 이상 있을 경우\n",
    "        if my_str.count(i) >= 2:\n",
    "            # res에 저장되어 있지 않으면 저장\n",
    "            if i not in res:\n",
    "                res.append(i)\n",
    "    return res"
   ]
  },
  {
   "cell_type": "code",
   "execution_count": 10,
   "id": "express-chest",
   "metadata": {},
   "outputs": [
    {
     "name": "stdout",
     "output_type": "stream",
     "text": [
      "['p']\n",
      "['a', 'n']\n"
     ]
    }
   ],
   "source": [
    "print(duplicated_letters('apple'))\n",
    "print(duplicated_letters('banana'))"
   ]
  },
  {
   "cell_type": "code",
   "execution_count": 4,
   "id": "reduced-poultry",
   "metadata": {},
   "outputs": [],
   "source": [
    "# 강사님 코드\n",
    "# if를 and로 연결\n",
    "def duplicated_letters(word):\n",
    "    duplicates = []\n",
    "    \n",
    "    for char in word:\n",
    "        if (word.count(char) > 1) and (char not in duplicates):\n",
    "            duplicates.append(char)\n",
    "    \n",
    "    return duplicates"
   ]
  },
  {
   "cell_type": "code",
   "execution_count": 18,
   "id": "altered-nowhere",
   "metadata": {},
   "outputs": [],
   "source": [
    "# 소대소개\n",
    "def low_and_up(my_str):\n",
    "    # 결과 출력 문자열 생성\n",
    "    res = \"\"\n",
    "    \n",
    "    # 문자열을 돌며 반복\n",
    "    for i in range(len(my_str)):\n",
    "        if i % 2:\n",
    "            res += my_str[i].upper()\n",
    "        else:\n",
    "            res += my_str[i].lower()\n",
    "    \n",
    "    return res  "
   ]
  },
  {
   "cell_type": "code",
   "execution_count": 19,
   "id": "imposed-halloween",
   "metadata": {},
   "outputs": [
    {
     "name": "stdout",
     "output_type": "stream",
     "text": [
      "aPpLe\n",
      "bAnAnA\n"
     ]
    }
   ],
   "source": [
    "print(low_and_up('apple'))\n",
    "print(low_and_up('banana'))"
   ]
  },
  {
   "cell_type": "code",
   "execution_count": 9,
   "id": "insured-progressive",
   "metadata": {},
   "outputs": [],
   "source": [
    "# 강사님 코드 enumerate사용\n",
    "def low_and_up(word):\n",
    "    new_str = ''\n",
    "    \n",
    "    for idx, char in enumerate(word):\n",
    "        # 홀수면 대문자\n",
    "        if idx % 2:\n",
    "            new_str += char.upper()        \n",
    "        # 짝수면 소문자\n",
    "        else:\n",
    "            new_str += char.lower()\n",
    "    \n",
    "    return new_str"
   ]
  },
  {
   "cell_type": "code",
   "execution_count": 10,
   "id": "middle-absorption",
   "metadata": {},
   "outputs": [
    {
     "name": "stdout",
     "output_type": "stream",
     "text": [
      "aPpLe\n",
      "bAnAnA\n"
     ]
    }
   ],
   "source": [
    "print(low_and_up('apple'))\n",
    "print(low_and_up('banana'))"
   ]
  },
  {
   "cell_type": "code",
   "execution_count": 54,
   "id": "voluntary-smile",
   "metadata": {},
   "outputs": [],
   "source": [
    "# 숫자의 의미\n",
    "def lonely(my_list):\n",
    "    res = []\n",
    "    for i in range(len(my_list)-1):\n",
    "        if my_list[i] != my_list[i+1]:\n",
    "            res.append(my_list[i])\n",
    "    res.append(my_list[len(my_list)-1])\n",
    "    return res"
   ]
  },
  {
   "cell_type": "code",
   "execution_count": 70,
   "id": "integrated-subdivision",
   "metadata": {},
   "outputs": [
    {
     "name": "stdout",
     "output_type": "stream",
     "text": [
      "[1, 3, 0, 1, 5]\n",
      "[4, 3, 1]\n"
     ]
    }
   ],
   "source": [
    "print(lonely([1, 1, 3, 3, 0, 1, 1, 5, 5, 5]))\n",
    "print(lonely([4, 4, 4, 3, 3, 1]))"
   ]
  },
  {
   "cell_type": "code",
   "execution_count": 14,
   "id": "palestinian-installation",
   "metadata": {},
   "outputs": [],
   "source": [
    "# 강사님코드\n",
    "def lonely(numbers):\n",
    "    result = []\n",
    "    \n",
    "    for idx, number in enumerate(numbers):\n",
    "        # 첫 번째 숫자는 일단 넣음\n",
    "        if idx == 0:\n",
    "            result.append(number)\n",
    "        # 직전에 넣은 숫자와 지금 뽑은 숫자가 다르면 append\n",
    "        # 같으면 pass\n",
    "        if result[-1] != number:\n",
    "            result.append(number)\n",
    "            \n",
    "    return result"
   ]
  },
  {
   "cell_type": "code",
   "execution_count": 15,
   "id": "flying-angel",
   "metadata": {},
   "outputs": [
    {
     "name": "stdout",
     "output_type": "stream",
     "text": [
      "[1, 3, 0, 1, 5]\n",
      "[4, 3, 1]\n"
     ]
    }
   ],
   "source": [
    "print(lonely([1, 1, 3, 3, 0, 1, 1, 5, 5, 5]))\n",
    "print(lonely([4, 4, 4, 3, 3, 1]))"
   ]
  }
 ],
 "metadata": {
  "kernelspec": {
   "display_name": "Python 3",
   "language": "python",
   "name": "python3"
  },
  "language_info": {
   "codemirror_mode": {
    "name": "ipython",
    "version": 3
   },
   "file_extension": ".py",
   "mimetype": "text/x-python",
   "name": "python",
   "nbconvert_exporter": "python",
   "pygments_lexer": "ipython3",
   "version": "3.8.7"
  }
 },
 "nbformat": 4,
 "nbformat_minor": 5
}
