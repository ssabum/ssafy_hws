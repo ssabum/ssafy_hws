{
 "cells": [
  {
   "cell_type": "code",
   "execution_count": 9,
   "id": "voluntary-scoop",
   "metadata": {},
   "outputs": [],
   "source": [
    "# 무엇이 중복일까\n",
    "def duplicated_letters(my_str):\n",
    "    # 결과 출력 리스트 생성\n",
    "    res = []\n",
    "    \n",
    "    # 문자열을 돌며 반복\n",
    "    for i in my_str:\n",
    "        \n",
    "        # 만약 해당 문자가 문자열에 2번 이상 있을 경우\n",
    "        if my_str.count(i) >= 2:\n",
    "            # res에 저장되어 있지 않으면 저장\n",
    "            if i not in res:\n",
    "                res.append(i)\n",
    "    return res"
   ]
  },
  {
   "cell_type": "code",
   "execution_count": 10,
   "id": "strange-money",
   "metadata": {},
   "outputs": [
    {
     "name": "stdout",
     "output_type": "stream",
     "text": [
      "['p']\n",
      "['a', 'n']\n"
     ]
    }
   ],
   "source": [
    "print(duplicated_letters('apple'))\n",
    "print(duplicated_letters('banana'))"
   ]
  },
  {
   "cell_type": "code",
   "execution_count": 18,
   "id": "respective-decimal",
   "metadata": {},
   "outputs": [],
   "source": [
    "# 소대소개\n",
    "def low_and_up(my_str):\n",
    "    # 결과 출력 문자열 생성\n",
    "    res = \"\"\n",
    "    \n",
    "    # 문자열을 돌며 반복\n",
    "    for i in range(len(my_str)):\n",
    "        if i % 2:\n",
    "            res += my_str[i].upper()\n",
    "        else:\n",
    "            res += my_str[i].lower()\n",
    "    \n",
    "    return res  "
   ]
  },
  {
   "cell_type": "code",
   "execution_count": 19,
   "id": "painted-husband",
   "metadata": {},
   "outputs": [
    {
     "name": "stdout",
     "output_type": "stream",
     "text": [
      "aPpLe\n",
      "bAnAnA\n"
     ]
    }
   ],
   "source": [
    "print(low_and_up('apple'))\n",
    "print(low_and_up('banana'))"
   ]
  },
  {
   "cell_type": "code",
   "execution_count": 54,
   "id": "essential-myanmar",
   "metadata": {},
   "outputs": [],
   "source": [
    "# 숫자의 의미\n",
    "def lonely(my_list):\n",
    "    res = []\n",
    "    for i in range(len(my_list)-1):\n",
    "        if my_list[i] != my_list[i+1]:\n",
    "            res.append(my_list[i])\n",
    "    res.append(my_list[len(my_list)-1])\n",
    "    return res"
   ]
  },
  {
   "cell_type": "code",
   "execution_count": 70,
   "id": "exact-filter",
   "metadata": {},
   "outputs": [
    {
     "name": "stdout",
     "output_type": "stream",
     "text": [
      "[1, 3, 0, 1, 5]\n",
      "[4, 3, 1]\n"
     ]
    }
   ],
   "source": [
    "print(lonely([1, 1, 3, 3, 0, 1, 1, 5, 5, 5]))\n",
    "print(lonely([4, 4, 4, 3, 3, 1]))"
   ]
  },
  {
   "cell_type": "code",
   "execution_count": null,
   "id": "adequate-thomas",
   "metadata": {},
   "outputs": [],
   "source": []
  }
 ],
 "metadata": {
  "kernelspec": {
   "display_name": "Python 3",
   "language": "python",
   "name": "python3"
  },
  "language_info": {
   "codemirror_mode": {
    "name": "ipython",
    "version": 3
   },
   "file_extension": ".py",
   "mimetype": "text/x-python",
   "name": "python",
   "nbconvert_exporter": "python",
   "pygments_lexer": "ipython3",
   "version": "3.8.7"
  }
 },
 "nbformat": 4,
 "nbformat_minor": 5
}
