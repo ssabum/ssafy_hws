{
 "cells": [
  {
   "cell_type": "code",
   "execution_count": 23,
   "id": "cross-questionnaire",
   "metadata": {},
   "outputs": [],
   "source": [
    "# List의 합 구하기\n",
    "\n",
    "def list_sum(x):\n",
    "    res = 0\n",
    "    for i in x:\n",
    "        res += i\n",
    "    return res"
   ]
  },
  {
   "cell_type": "code",
   "execution_count": 25,
   "id": "prompt-niger",
   "metadata": {},
   "outputs": [
    {
     "data": {
      "text/plain": [
       "15"
      ]
     },
     "execution_count": 25,
     "metadata": {},
     "output_type": "execute_result"
    }
   ],
   "source": [
    "list_sum([1, 2, 3, 4, 5])"
   ]
  },
  {
   "cell_type": "code",
   "execution_count": 15,
   "id": "unexpected-objective",
   "metadata": {},
   "outputs": [],
   "source": [
    "# Dictionary로 이루어진 List의 합 구하기\n",
    "\n",
    "def dict_list_sum(x):\n",
    "    res = 0\n",
    "    for i in x:\n",
    "        if i['age']:\n",
    "            res += i['age']\n",
    "    return res"
   ]
  },
  {
   "cell_type": "code",
   "execution_count": 16,
   "id": "better-relation",
   "metadata": {},
   "outputs": [
    {
     "data": {
      "text/plain": [
       "16"
      ]
     },
     "execution_count": 16,
     "metadata": {},
     "output_type": "execute_result"
    }
   ],
   "source": [
    "dict_list_sum([{'name': 'kim', 'age': 12}, {'name': 'lee', 'age': 4}])"
   ]
  },
  {
   "cell_type": "code",
   "execution_count": 19,
   "id": "freelance-subdivision",
   "metadata": {},
   "outputs": [],
   "source": [
    "# 2차원 List의 전체 합 구하기\n",
    "\n",
    "def all_list_sum(x):\n",
    "    res = 0\n",
    "    for i in x:\n",
    "        for j in i:\n",
    "            res += j\n",
    "    return res"
   ]
  },
  {
   "cell_type": "code",
   "execution_count": 20,
   "id": "provincial-lover",
   "metadata": {},
   "outputs": [
    {
     "data": {
      "text/plain": [
       "55"
      ]
     },
     "execution_count": 20,
     "metadata": {},
     "output_type": "execute_result"
    }
   ],
   "source": [
    "all_list_sum([[1], [2, 3], [4, 5, 6], [7, 8, 9, 10]])"
   ]
  }
 ],
 "metadata": {
  "kernelspec": {
   "display_name": "Python 3",
   "language": "python",
   "name": "python3"
  },
  "language_info": {
   "codemirror_mode": {
    "name": "ipython",
    "version": 3
   },
   "file_extension": ".py",
   "mimetype": "text/x-python",
   "name": "python",
   "nbconvert_exporter": "python",
   "pygments_lexer": "ipython3",
   "version": "3.8.7"
  },
  "toc": {
   "base_numbering": 1,
   "nav_menu": {},
   "number_sections": true,
   "sideBar": true,
   "skip_h1_title": false,
   "title_cell": "Table of Contents",
   "title_sidebar": "Contents",
   "toc_cell": false,
   "toc_position": {},
   "toc_section_display": true,
   "toc_window_display": false
  }
 },
 "nbformat": 4,
 "nbformat_minor": 5
}
