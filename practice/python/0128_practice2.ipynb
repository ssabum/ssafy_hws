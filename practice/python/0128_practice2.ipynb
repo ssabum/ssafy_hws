{
 "cells": [
  {
   "cell_type": "markdown",
   "metadata": {},
   "source": [
    "# Practice 2(선택)\n",
    "\n",
    "> OOP(Object-Oriented-Programming)"
   ]
  },
  {
   "cell_type": "markdown",
   "metadata": {},
   "source": [
    "## Pair Matching Program\n",
    "\n",
    "> 페어 프로그래밍은 하나의 컴퓨터에서 두 사람의 프로그래머가 작업하는 방식을 의미한다. \n",
    ">\n",
    "> SSAFY 1학기 정규 과정에서 프로젝트는 페어 프로그래밍을 통해 진행한다. 진정한 프로그래머가 되기 위해 김싸피는 페어를 매칭하기 위한 프로그램을 작성하려고 한다. 클래스를 활용해 작성하며 포함되는 메서드는 아래와 같다.\n",
    ">\n",
    "\n",
    "**구성 요소**\n",
    "1. 초기화 메서드는 인자로 학생 이름으로 구성된 리스트를 받아서 인스턴스 변수에 할당한다.\n",
    "2. `pick(n)` 메서드는 학생들 명단에서 인자 n명 만큼 랜덤으로 추출하여 return한다.\n",
    "3. `match_pair()` 메서드는 학생들 명단을 랜덤으로 2명씩 매칭해 준다. 이때, 학생들 명단의 수가 홀수명이면 단 한팀만 3명으로 구성한다.\n",
    "\n",
    "---\n",
    "\n",
    "예시)\n",
    "\n",
    "```python\n",
    "ch = ClassHelper(['김싸피', '이싸피', '조싸피', '박싸피', '정싸피'])\n",
    "\n",
    "ch.pick(1) #=> ['이싸피']\n",
    "ch.pick(1) #=> ['김싸피']\n",
    "ch.pick(2) #=> ['김싸피', '박싸피']\n",
    "ch.pick(3) #=> ['김싸피', '조싸피', '정싸피']\n",
    "ch.pick(4) #=> ['박싸피', '이싸피', '김싸피', '정싸피']\n",
    "\n",
    "ch.match_pair() #=> [['조싸피', '이싸피'], ['김싸피', '정싸피', '박싸피']]\n",
    "```"
   ]
  },
  {
   "cell_type": "code",
   "execution_count": 178,
   "metadata": {},
   "outputs": [],
   "source": [
    "import random\n",
    "\n",
    "class ClassHelper:\n",
    "    def __init__(self, namelist=[]):\n",
    "        self.namelist = namelist\n",
    "        \n",
    "    # n명 추출\n",
    "    def pick(self, n):\n",
    "        print(random.sample(self.namelist, n))\n",
    "    \n",
    "    # n명씩 전우조\n",
    "    # 어케어케 짜긴 했는데 아까 정윤님이 말씀하신 부분 수정해야함\n",
    "    def match_pair(self, n):\n",
    "        pair_list = self.namelist\n",
    "        global result\n",
    "        result = []\n",
    "        result = [pair_list[i * n:(i + 1) * n] for i in range((len(pair_list) + n - 1) // n )]\n",
    "        print(result)\n",
    "\n",
    "    # 전우조에서 발표자 뽑기\n",
    "    def agent(self):\n",
    "        for i in result:\n",
    "            agent = random.choice(i)\n",
    "            print(agent)\n",
    "    \n",
    "    # 전학생 ㅊㅋㅊㅋ\n",
    "    def add(self, name):\n",
    "        self.name = [name]\n",
    "        self.namelist += self.name\n",
    "        print(f'전학생 {name}가 입교했습니다!')\n",
    "        \n",
    "    # 취업으로 인한 퇴소생\n",
    "    def remove(self, name):\n",
    "        self.name = name\n",
    "        self.namelist.remove(self.name)\n",
    "        print(f'{name}가 취업으로 퇴소하셨습니다!')\n",
    "    \n",
    "    # 명부확인\n",
    "    def student(self):\n",
    "        print(f'발표자는 {self.namelist}입니다.')"
   ]
  },
  {
   "cell_type": "code",
   "execution_count": 179,
   "metadata": {},
   "outputs": [],
   "source": [
    "# 해당 코드를 통해 올바른 결과가 나오는지 확인하시오.\n",
    "ch = ClassHelper(['김싸피', '이싸피', '조싸피', '박싸피', '정싸피', '1', '2', '3', '8', '8', '11', '79', '45', '77', '792'])"
   ]
  },
  {
   "cell_type": "code",
   "execution_count": 180,
   "metadata": {},
   "outputs": [
    {
     "name": "stdout",
     "output_type": "stream",
     "text": [
      "['조싸피']\n"
     ]
    }
   ],
   "source": [
    "ch.pick(1)"
   ]
  },
  {
   "cell_type": "code",
   "execution_count": 181,
   "metadata": {},
   "outputs": [
    {
     "name": "stdout",
     "output_type": "stream",
     "text": [
      "[['김싸피', '이싸피', '조싸피', '박싸피', '정싸피', '1', '2'], ['3', '8', '8', '11', '79', '45', '77'], ['792']]\n"
     ]
    }
   ],
   "source": [
    "ch.match_pair(7)"
   ]
  },
  {
   "cell_type": "code",
   "execution_count": 182,
   "metadata": {},
   "outputs": [
    {
     "name": "stdout",
     "output_type": "stream",
     "text": [
      "전학생 차싸피가 입교했습니다!\n"
     ]
    }
   ],
   "source": [
    "ch.add('차싸피')"
   ]
  },
  {
   "cell_type": "code",
   "execution_count": 183,
   "metadata": {},
   "outputs": [
    {
     "name": "stdout",
     "output_type": "stream",
     "text": [
      "['김싸피', '이싸피', '조싸피', '박싸피', '정싸피', '1', '2', '3', '8', '8', '11', '79', '45', '77', '792', '차싸피']\n"
     ]
    }
   ],
   "source": [
    "ch.student()"
   ]
  },
  {
   "cell_type": "code",
   "execution_count": 184,
   "metadata": {},
   "outputs": [
    {
     "name": "stdout",
     "output_type": "stream",
     "text": [
      "차싸피가 취업으로 퇴소하셨습니다!\n"
     ]
    }
   ],
   "source": [
    "ch.remove('차싸피')"
   ]
  },
  {
   "cell_type": "code",
   "execution_count": 185,
   "metadata": {},
   "outputs": [
    {
     "name": "stdout",
     "output_type": "stream",
     "text": [
      "['김싸피', '이싸피', '조싸피', '박싸피', '정싸피', '1', '2', '3', '8', '8', '11', '79', '45', '77', '792']\n"
     ]
    }
   ],
   "source": [
    "ch.student()"
   ]
  },
  {
   "cell_type": "code",
   "execution_count": 186,
   "metadata": {},
   "outputs": [
    {
     "name": "stdout",
     "output_type": "stream",
     "text": [
      "1\n",
      "77\n",
      "792\n"
     ]
    }
   ],
   "source": [
    "ch.agent()"
   ]
  },
  {
   "cell_type": "code",
   "execution_count": null,
   "metadata": {},
   "outputs": [],
   "source": []
  }
 ],
 "metadata": {
  "kernelspec": {
   "display_name": "Python 3",
   "language": "python",
   "name": "python3"
  },
  "language_info": {
   "codemirror_mode": {
    "name": "ipython",
    "version": 3
   },
   "file_extension": ".py",
   "mimetype": "text/x-python",
   "name": "python",
   "nbconvert_exporter": "python",
   "pygments_lexer": "ipython3",
   "version": "3.8.7"
  },
  "toc": {
   "base_numbering": 1,
   "nav_menu": {},
   "number_sections": true,
   "sideBar": true,
   "skip_h1_title": false,
   "title_cell": "Table of Contents",
   "title_sidebar": "Contents",
   "toc_cell": false,
   "toc_position": {},
   "toc_section_display": true,
   "toc_window_display": false
  }
 },
 "nbformat": 4,
 "nbformat_minor": 4
}
