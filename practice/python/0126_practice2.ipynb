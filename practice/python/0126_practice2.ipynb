{
 "cells": [
  {
   "cell_type": "markdown",
   "metadata": {},
   "source": [
    "# Practice 3\n",
    "\n",
    "> 자료 구조 "
   ]
  },
  {
   "cell_type": "markdown",
   "metadata": {},
   "source": [
    "## 썩은 과일 찾기\n",
    "\n",
    "> 과수원에 농부 한명이 썩은 과일이 몇개 들어있는 과일 봉지를 가지고 있다. (과일 봉지는 리스트를 의미한다.)\n",
    ">\n",
    "> 썩은 과일 조각들을 모두 신선한 것으로 교체하는 함수 `change_rotten_fruit()`를 작성하시오. \n",
    ">\n",
    "> 예를 들어,\n",
    "- `['apple', 'rottenBanana', 'apple']` 이라는 리스트가 주어진 경우, 대체된 리스트는 `['apple', 'banana', 'apple']` 이어야 한다. \n",
    ">\n",
    ">\n",
    "> **유의**\n",
    "- 만약 리스트가 null/nil/None이거나 비어 있는 경우 빈 리스트를 반환한다.\n",
    "- 반환된 리스트의 요소는 모두 소문자여야 한다.\n",
    "\n",
    "---\n",
    "\n",
    "예시)\n",
    "\n",
    "```python\n",
    "change_rotten_fruit(['apple', 'rottenBanana', 'apple']) \n",
    "#=> ['apple', 'banana', 'apple']\n",
    "\n",
    "change_rotten_fruit(['rottenapple', 'rottenBanana', 'apple', 'rottenGrape']) \n",
    "#=> ['apple', 'banana', 'apple', 'grape']\n",
    "```"
   ]
  },
  {
   "cell_type": "code",
   "execution_count": 14,
   "metadata": {},
   "outputs": [],
   "source": [
    "def change_rotten_fruit(fruit_bag = []):\n",
    "    res = []\n",
    "    for i in fruit_bag:\n",
    "        if 'rotten' in i:\n",
    "            res.append(i.replace('rotten', ''))\n",
    "        else:\n",
    "            res.append(i)\n",
    "    return res"
   ]
  },
  {
   "cell_type": "code",
   "execution_count": 15,
   "metadata": {},
   "outputs": [
    {
     "name": "stdout",
     "output_type": "stream",
     "text": [
      "['apple', 'Banana', 'apple']\n",
      "['apple', 'Banana', 'apple', 'Grape']\n",
      "[]\n"
     ]
    }
   ],
   "source": [
    "# 해당 코드를 통해 올바른 결과가 나오는지 확인하시오.\n",
    "print(change_rotten_fruit(['apple', 'rottenBanana', 'apple'] ))\n",
    "print(change_rotten_fruit(['rottenapple', 'rottenBanana', 'apple', 'rottenGrape']))\n",
    "print(change_rotten_fruit())"
   ]
  },
  {
   "cell_type": "code",
   "execution_count": 1,
   "metadata": {},
   "outputs": [],
   "source": [
    "def change_rotten_fruit(fruit_bag = []):\n",
    "    res = []\n",
    "    \n",
    "    for fruit in fruit_bag:\n",
    "        fruit = fruit.replace('rotten', '')\n",
    "        fruit = fruit.lower()\n",
    "        res.append(fruit)\n",
    "    \n",
    "    return res"
   ]
  },
  {
   "cell_type": "code",
   "execution_count": 5,
   "metadata": {},
   "outputs": [
    {
     "name": "stdout",
     "output_type": "stream",
     "text": [
      "['apple', 'banana', 'apple', 'grape']\n"
     ]
    }
   ],
   "source": [
    "print(change_rotten_fruit(['rottenapple', 'rottenBanana', 'apple', 'rottenGrape']))"
   ]
  },
  {
   "cell_type": "markdown",
   "metadata": {},
   "source": [
    "## 중복되지 않은 숫자의 합\n",
    "\n",
    "> 같은 숫자가 한개 있거나 두개가 들어있는 리스트가 주어진다. 이러한 리스트에서 숫자가 한개만 있는 요소들의 합을 구하는 함수 `sum_of_repeat_number()`를 작성하시오.\n",
    ">\n",
    "> 예를 들어, `[4, 5, 7, 5, 4, 8]`는 7과 8이 한번만 나오기 때문에 두개를 더한 15가 결과값으로 도출된다.\n",
    "\n",
    "---\n",
    "\n",
    "예시)\n",
    "\n",
    "```python\n",
    "sum_of_repeat_number([4, 4, 7, 8, 10]) # => 25\n",
    "```\n"
   ]
  },
  {
   "cell_type": "code",
   "execution_count": 56,
   "metadata": {},
   "outputs": [],
   "source": [
    "def sum_of_repeat_number(numbers):\n",
    "    tot = 0\n",
    "    for i in numbers:\n",
    "        if numbers.count(i) == 1:\n",
    "            tot += i\n",
    "    return tot"
   ]
  },
  {
   "cell_type": "code",
   "execution_count": 59,
   "metadata": {},
   "outputs": [
    {
     "name": "stdout",
     "output_type": "stream",
     "text": [
      "25\n"
     ]
    }
   ],
   "source": [
    "# 해당 코드를 통해 올바른 결과가 나오는지 확인하시오.\n",
    "print(sum_of_repeat_number([4, 4, 7, 8, 10]))"
   ]
  },
  {
   "cell_type": "code",
   "execution_count": 128,
   "metadata": {},
   "outputs": [],
   "source": [
    "def sum_of_repeat_number(numbers):\n",
    "    tot = 0\n",
    "    for i in numbers:\n",
    "        cnt = 0\n",
    "        for j in numbers:\n",
    "            if i == j:\n",
    "                cnt += 1\n",
    "        if cnt == 1:\n",
    "            tot += i\n",
    "    return tot"
   ]
  },
  {
   "cell_type": "code",
   "execution_count": 129,
   "metadata": {},
   "outputs": [
    {
     "name": "stdout",
     "output_type": "stream",
     "text": [
      "25\n"
     ]
    }
   ],
   "source": [
    "print(sum_of_repeat_number([4, 4, 7, 8, 10]))"
   ]
  },
  {
   "cell_type": "code",
   "execution_count": 132,
   "metadata": {},
   "outputs": [],
   "source": [
    "def sum_of_repeat_number(numbers):\n",
    "    once = [] # 한번 등장 리스트\n",
    "    multiple = [] # 여러번 등장 리스트\n",
    "    \n",
    "    for number in numbers:\n",
    "        # 한번 등장 리스트에 있으면\n",
    "        if number in once:\n",
    "            multiple.append(number)\n",
    "            once.remove(number)\n",
    "        # 처음 등장\n",
    "        elif number not in multiple:\n",
    "            once.append(number)\n",
    "        \n",
    "    return sum(once)"
   ]
  },
  {
   "cell_type": "code",
   "execution_count": 133,
   "metadata": {},
   "outputs": [
    {
     "name": "stdout",
     "output_type": "stream",
     "text": [
      "25\n"
     ]
    }
   ],
   "source": [
    "print(sum_of_repeat_number([4, 4, 7, 8, 10]))"
   ]
  },
  {
   "cell_type": "code",
   "execution_count": null,
   "metadata": {},
   "outputs": [],
   "source": [
    "# 승운님 코드\n",
    "def my_find(text, alphabet):\n",
    "    result =[]\n",
    "    \n",
    "    for idx, tmp in enumerate(text) :\n",
    "        if tmp == alphabet :\n",
    "            result.append(idx)\n",
    "    \n",
    "    return result if len(result)>=1 else -1"
   ]
  },
  {
   "cell_type": "code",
   "execution_count": 2,
   "metadata": {},
   "outputs": [],
   "source": [
    "def change_rotten_fruit(fruit_bag):\n",
    "    for i in fruit_bag:\n",
    "        if 'rotten' in i:\n",
    "            i.replace('rotten', '')\n",
    "            print(i)"
   ]
  },
  {
   "cell_type": "code",
   "execution_count": 26,
   "metadata": {},
   "outputs": [
    {
     "name": "stdout",
     "output_type": "stream",
     "text": [
      "Banan\n",
      "None\n"
     ]
    }
   ],
   "source": [
    "print(change_rotten_fruit(['apple', 'rottenBanan', 'apple']))"
   ]
  },
  {
   "cell_type": "code",
   "execution_count": 25,
   "metadata": {},
   "outputs": [],
   "source": [
    "def change_rotten_fruit(fruit_bag):\n",
    "    for i in fruit_bag:\n",
    "        if 'rotten' in i:\n",
    "            i = i.replace('rotten', '')\n",
    "            print(i)"
   ]
  },
  {
   "cell_type": "code",
   "execution_count": 11,
   "metadata": {},
   "outputs": [
    {
     "data": {
      "text/plain": [
       "'Banan'"
      ]
     },
     "execution_count": 11,
     "metadata": {},
     "output_type": "execute_result"
    }
   ],
   "source": [
    "'rottenBanan'.replace('rotten', '')"
   ]
  },
  {
   "cell_type": "code",
   "execution_count": 27,
   "metadata": {},
   "outputs": [],
   "source": [
    "a = 'rottenbanan'\n",
    "if 'rotten' in a:\n",
    "    a.replace('rotten', '')"
   ]
  },
  {
   "cell_type": "code",
   "execution_count": 28,
   "metadata": {},
   "outputs": [
    {
     "data": {
      "text/plain": [
       "'rottenbanan'"
      ]
     },
     "execution_count": 28,
     "metadata": {},
     "output_type": "execute_result"
    }
   ],
   "source": [
    "a"
   ]
  }
 ],
 "metadata": {
  "kernelspec": {
   "display_name": "Python 3",
   "language": "python",
   "name": "python3"
  },
  "language_info": {
   "codemirror_mode": {
    "name": "ipython",
    "version": 3
   },
   "file_extension": ".py",
   "mimetype": "text/x-python",
   "name": "python",
   "nbconvert_exporter": "python",
   "pygments_lexer": "ipython3",
   "version": "3.8.7"
  },
  "toc": {
   "base_numbering": 1,
   "nav_menu": {},
   "number_sections": true,
   "sideBar": true,
   "skip_h1_title": false,
   "title_cell": "Table of Contents",
   "title_sidebar": "Contents",
   "toc_cell": false,
   "toc_position": {},
   "toc_section_display": true,
   "toc_window_display": false
  }
 },
 "nbformat": 4,
 "nbformat_minor": 4
}
