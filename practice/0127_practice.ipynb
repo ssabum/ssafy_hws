{
 "cells": [
  {
   "cell_type": "code",
   "execution_count": 1,
   "id": "royal-member",
   "metadata": {},
   "outputs": [],
   "source": [
    "class Student:\n",
    "    '''\n",
    "    학생 클래스입니다.\n",
    "    '''\n",
    "    population = 0"
   ]
  },
  {
   "cell_type": "code",
   "execution_count": 2,
   "id": "surprised-validity",
   "metadata": {},
   "outputs": [],
   "source": [
    "ssabum = Student()"
   ]
  },
  {
   "cell_type": "code",
   "execution_count": 3,
   "id": "stuck-memorabilia",
   "metadata": {},
   "outputs": [
    {
     "data": {
      "text/plain": [
       "__main__.Student"
      ]
     },
     "execution_count": 3,
     "metadata": {},
     "output_type": "execute_result"
    }
   ],
   "source": [
    "type(ssabum)"
   ]
  },
  {
   "cell_type": "code",
   "execution_count": 4,
   "id": "perfect-prototype",
   "metadata": {},
   "outputs": [
    {
     "data": {
      "text/plain": [
       "type"
      ]
     },
     "execution_count": 4,
     "metadata": {},
     "output_type": "execute_result"
    }
   ],
   "source": [
    "type(Student)"
   ]
  }
 ],
 "metadata": {
  "kernelspec": {
   "display_name": "Python 3",
   "language": "python",
   "name": "python3"
  },
  "language_info": {
   "codemirror_mode": {
    "name": "ipython",
    "version": 3
   },
   "file_extension": ".py",
   "mimetype": "text/x-python",
   "name": "python",
   "nbconvert_exporter": "python",
   "pygments_lexer": "ipython3",
   "version": "3.8.7"
  }
 },
 "nbformat": 4,
 "nbformat_minor": 5
}
