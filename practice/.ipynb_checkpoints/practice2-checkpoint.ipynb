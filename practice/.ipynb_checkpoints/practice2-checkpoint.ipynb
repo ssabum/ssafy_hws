{
 "cells": [
  {
   "cell_type": "markdown",
   "metadata": {},
   "source": [
    "# Practice 2\n",
    "\n",
    "> 함수"
   ]
  },
  {
   "cell_type": "markdown",
   "metadata": {},
   "source": [
    "## 불쌍한 달팽이\n",
    "\n",
    "> 달팽이는 낮 시간 동안에 기둥을 올라간다. 하지만 밤에는 잠을 자면서 어느 정도의 거리만큼 미끄러진다. (낮 시간 동안 올라간 거리보다는 적게 미끄러진다.)\n",
    "> \n",
    "> 달팽이가 기둥의 꼭대기에 도달하는 날까지 걸리는 시간을 반환하는 함수 `snail()`을 작성하시오.\n",
    "\n",
    "> 함수의 인자는 다음과 같다.\n",
    "1. 기둥의 높이(미터)\n",
    "2. 낮 시간 동안 달팽이가 올라가는 거리(미터)\n",
    "3. 달팽이가 야간에 잠을 자는 동안 미끄러지는 거리(미터)\n",
    "\n",
    "---\n",
    "\n",
    "예시)\n",
    "\n",
    "```python\n",
    "snail(100, 5, 2) #=> 33\n",
    "```"
   ]
  },
  {
   "cell_type": "code",
   "execution_count": 41,
   "metadata": {},
   "outputs": [],
   "source": [
    "def snail(height, day, night):\n",
    "    length = 0\n",
    "    date = 0\n",
    "    while length <= height:\n",
    "        date += 1\n",
    "        length = length + day\n",
    "        if length >= height:\n",
    "            return date\n",
    "        length = length - night"
   ]
  },
  {
   "cell_type": "code",
   "execution_count": 45,
   "metadata": {},
   "outputs": [
    {
     "name": "stdout",
     "output_type": "stream",
     "text": [
      "33\n",
      "1\n"
     ]
    }
   ],
   "source": [
    "# 해당 코드를 통해 올바른 결과가 나오는지 확인하시오.\n",
    "print(snail(100, 5, 2))\n",
    "print(snail(1, 5, 2))"
   ]
  },
  {
   "cell_type": "code",
   "execution_count": 44,
   "metadata": {},
   "outputs": [
    {
     "name": "stdout",
     "output_type": "stream",
     "text": [
      "None\n"
     ]
    }
   ],
   "source": [
    "print(snail(-10, 5, 2))"
   ]
  },
  {
   "cell_type": "code",
   "execution_count": 37,
   "metadata": {},
   "outputs": [],
   "source": [
    "def snail(height, day, night):\n",
    "    cnt = 0 # 걸린 일자\n",
    "    \n",
    "    while True:\n",
    "        cnt += 1 # 아침이 밝았습니다...시민이 한명 죽었..\n",
    "        height -= day # 기둥에 올라가요\n",
    "        if height <= 0:\n",
    "            return cnt # 도착\n",
    "        height += night # 밤이 되어 떨어진다"
   ]
  },
  {
   "cell_type": "code",
   "execution_count": 40,
   "metadata": {},
   "outputs": [
    {
     "name": "stdout",
     "output_type": "stream",
     "text": [
      "33\n",
      "1\n"
     ]
    }
   ],
   "source": [
    "print(snail(100, 5, 2))\n",
    "print(snail(1, 5, 2))"
   ]
  },
  {
   "cell_type": "markdown",
   "metadata": {},
   "source": [
    "## 자릿수 더하기 (SWEA #2058)\n",
    "\n",
    "> 자연수 number를 입력 받아, 각 자릿수의 합을 계산하여 출력하시오.\n",
    "\n",
    "---\n",
    "\n",
    "예시)\n",
    "\n",
    "```python\n",
    "sum_of_digit(1234) #=> 10\n",
    "sum_of_digit(4321) #=> 10\n",
    "```"
   ]
  },
  {
   "cell_type": "code",
   "execution_count": 35,
   "metadata": {},
   "outputs": [],
   "source": [
    "def sum_of_digit(number):\n",
    "    res = 0\n",
    "    for i in range(1, len(str(number))+1):\n",
    "            div = 10 ** i\n",
    "            x = number % div\n",
    "            if i == 1:\n",
    "                x = x\n",
    "            else:\n",
    "                x = x // 10 ** (i-1)\n",
    "            res += x\n",
    "        \n",
    "    return res"
   ]
  },
  {
   "cell_type": "code",
   "execution_count": 36,
   "metadata": {},
   "outputs": [
    {
     "name": "stdout",
     "output_type": "stream",
     "text": [
      "26\n",
      "26\n"
     ]
    }
   ],
   "source": [
    "# 해당 코드를 통해 올바른 결과가 나오는지 확인하시오.\n",
    "print(sum_of_digit(128834))\n",
    "print(sum_of_digit(432188))"
   ]
  },
  {
   "cell_type": "code",
   "execution_count": 33,
   "metadata": {},
   "outputs": [],
   "source": [
    "def sum_of_digit(number):\n",
    "    total = 0\n",
    "    y = len(str(number))\n",
    "    while y > 0:\n",
    "        x = number // (10 ** (y - 1))\n",
    "        total += x\n",
    "        number -= x * (10 ** (y - 1))\n",
    "        y -= 1\n",
    "    return total"
   ]
  },
  {
   "cell_type": "code",
   "execution_count": 34,
   "metadata": {},
   "outputs": [
    {
     "name": "stdout",
     "output_type": "stream",
     "text": [
      "26\n",
      "26\n"
     ]
    }
   ],
   "source": [
    "print(sum_of_digit(123488))\n",
    "print(sum_of_digit(432881))"
   ]
  },
  {
   "cell_type": "code",
   "execution_count": 50,
   "metadata": {},
   "outputs": [],
   "source": [
    "def sum_of_digit(number):\n",
    "    print('-----------------------')\n",
    "    total = 0\n",
    "    while number / 10: # 10으로 나눠다가 False의 경우(0/10 → False) 탈출!!\n",
    "        reminder = number % 10\n",
    "        number //= 10 # 몫으로 나눈 값은 다음에 나눌 수 있도록\n",
    "        \n",
    "        total += reminder\n",
    "        print(reminder, total)\n",
    "    return total"
   ]
  },
  {
   "cell_type": "code",
   "execution_count": 51,
   "metadata": {},
   "outputs": [
    {
     "name": "stdout",
     "output_type": "stream",
     "text": [
      "-----------------------\n",
      "8 8\n",
      "8 16\n",
      "4 20\n",
      "3 23\n",
      "2 25\n",
      "1 26\n",
      "26\n",
      "-----------------------\n",
      "1 1\n",
      "8 9\n",
      "8 17\n",
      "2 19\n",
      "3 22\n",
      "4 26\n",
      "26\n"
     ]
    }
   ],
   "source": [
    "print(sum_of_digit(123488))\n",
    "print(sum_of_digit(432881))"
   ]
  },
  {
   "cell_type": "code",
   "execution_count": 54,
   "metadata": {},
   "outputs": [],
   "source": [
    "def sum_of_digit(number):\n",
    "    print('-----------------------')\n",
    "    total = 0\n",
    "    while number / 10:\n",
    "        number, reminder = divmod(number, 10) # 빌트인함수 사용\n",
    "        \n",
    "        total += reminder\n",
    "        print(reminder, total)\n",
    "    return total"
   ]
  },
  {
   "cell_type": "code",
   "execution_count": 53,
   "metadata": {},
   "outputs": [
    {
     "name": "stdout",
     "output_type": "stream",
     "text": [
      "-----------------------\n",
      "8 8\n",
      "8 16\n",
      "4 20\n",
      "3 23\n",
      "2 25\n",
      "1 26\n",
      "26\n",
      "-----------------------\n",
      "1 1\n",
      "8 9\n",
      "8 17\n",
      "2 19\n",
      "3 22\n",
      "4 26\n",
      "26\n"
     ]
    }
   ],
   "source": [
    "print(sum_of_digit(123488))\n",
    "print(sum_of_digit(432881))"
   ]
  },
  {
   "cell_type": "code",
   "execution_count": null,
   "metadata": {},
   "outputs": [],
   "source": [
    "# 재귀로 풀어보기!!\n"
   ]
  }
 ],
 "metadata": {
  "kernelspec": {
   "display_name": "Python 3",
   "language": "python",
   "name": "python3"
  },
  "language_info": {
   "codemirror_mode": {
    "name": "ipython",
    "version": 3
   },
   "file_extension": ".py",
   "mimetype": "text/x-python",
   "name": "python",
   "nbconvert_exporter": "python",
   "pygments_lexer": "ipython3",
   "version": "3.8.7"
  },
  "toc": {
   "base_numbering": 1,
   "nav_menu": {},
   "number_sections": true,
   "sideBar": true,
   "skip_h1_title": false,
   "title_cell": "Table of Contents",
   "title_sidebar": "Contents",
   "toc_cell": false,
   "toc_position": {},
   "toc_section_display": true,
   "toc_window_display": false
  }
 },
 "nbformat": 4,
 "nbformat_minor": 4
}
