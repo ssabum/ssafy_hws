{
 "cells": [
  {
   "cell_type": "code",
   "execution_count": 2,
   "id": "white-things",
   "metadata": {},
   "outputs": [
    {
     "name": "stdout",
     "output_type": "stream",
     "text": [
      "길동\n",
      "이름은 길동으로 하자..\n"
     ]
    }
   ],
   "source": [
    "# 입력 type → str\n",
    "name = input()\n",
    "print(f'이름은 {name}으로 하자..')"
   ]
  },
  {
   "cell_type": "markdown",
   "id": "jewish-outreach",
   "metadata": {},
   "source": [
    "## 조건 & 반복문\n",
    ">1~20까지의 숫자 중에 홀수의 갯수 출력"
   ]
  },
  {
   "cell_type": "code",
   "execution_count": 42,
   "id": "dated-mumbai",
   "metadata": {},
   "outputs": [
    {
     "name": "stdout",
     "output_type": "stream",
     "text": [
      "홀수의 개수는 10, 짝수의 개수는 10 입니다.\n"
     ]
    }
   ],
   "source": [
    "cnt = 0\n",
    "cnt_1 = 0\n",
    "for i in range(1, 21):\n",
    "    if i % 2:\n",
    "        cnt += 1\n",
    "    else:\n",
    "        cnt_1 += 1\n",
    "print(f'홀수의 개수는 {cnt}, 짝수의 개수는 {cnt_1} 입니다.')"
   ]
  },
  {
   "cell_type": "code",
   "execution_count": 1,
   "id": "blank-elite",
   "metadata": {},
   "outputs": [
    {
     "ename": "SyntaxError",
     "evalue": "invalid syntax (<ipython-input-1-4be3d93d636a>, line 4)",
     "output_type": "error",
     "traceback": [
      "\u001b[1;36m  File \u001b[1;32m\"<ipython-input-1-4be3d93d636a>\"\u001b[1;36m, line \u001b[1;32m4\u001b[0m\n\u001b[1;33m    cnt += 1 if i % 2 else cnt_1 += 1\u001b[0m\n\u001b[1;37m                                 ^\u001b[0m\n\u001b[1;31mSyntaxError\u001b[0m\u001b[1;31m:\u001b[0m invalid syntax\n"
     ]
    }
   ],
   "source": [
    "cnt = 0\n",
    "cnt_1 = 0\n",
    "for i in range(1, 21):\n",
    "    cnt += 1 if i % 2 else cnt_1 += 1\n",
    "print(cnt)"
   ]
  },
  {
   "cell_type": "code",
   "execution_count": 4,
   "id": "close-pitch",
   "metadata": {},
   "outputs": [
    {
     "name": "stdout",
     "output_type": "stream",
     "text": [
      "코카콜라 결재 완료\n",
      "None를 꿀꺽꿀꺽!\n"
     ]
    }
   ],
   "source": [
    "def 음료수_자판기(음료수_번호, 돈):\n",
    "    음료수_딕셔너리 = {1: '코카콜라', 2:'스프라이트'}\n",
    "    음료수 = 음료수_딕셔너리[음료수_번호]\n",
    "    \n",
    "    print(f'{음료수} 결재 완료')\n",
    "    # return 음료수\n",
    "\n",
    "내가_뽑은_음료수 = 음료수_자판기(1, 1000)\n",
    "print(f'{내가_뽑은_음료수}를 꿀꺽꿀꺽!')\n"
   ]
  },
  {
   "cell_type": "code",
   "execution_count": null,
   "id": "united-celtic",
   "metadata": {},
   "outputs": [],
   "source": []
  }
 ],
 "metadata": {
  "kernelspec": {
   "display_name": "Python 3",
   "language": "python",
   "name": "python3"
  },
  "toc": {
   "base_numbering": 1,
   "nav_menu": {},
   "number_sections": true,
   "sideBar": true,
   "skip_h1_title": false,
   "title_cell": "Table of Contents",
   "title_sidebar": "Contents",
   "toc_cell": false,
   "toc_position": {},
   "toc_section_display": true,
   "toc_window_display": true
  }
 },
 "nbformat": 4,
 "nbformat_minor": 5
}
