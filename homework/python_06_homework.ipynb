{
 "cells": [
  {
   "cell_type": "code",
   "execution_count": 5,
   "id": "explicit-register",
   "metadata": {},
   "outputs": [],
   "source": [
    "# Built-in 함수와 메서드\n",
    "# \n",
    "# sorted()와 .sort()\n",
    "#\n",
    "# list.sort()은 list을 그 자리에서 정렬하고 목록 인덱스를 변경하고 None을 반환합니다.(list원본을 수정)\n",
    "# sorted()은 list뿐만 아니라 반복 가능한 모든 작업에 적용할 수 있습니다.\n",
    "# list의 경우에 list.sort()는 복사본을 만들 필요가 없으므로 sorted()보다 빠릅니다.a = [5, 2, 3, 1, 4]"
   ]
  },
  {
   "cell_type": "code",
   "execution_count": 6,
   "id": "formal-walnut",
   "metadata": {},
   "outputs": [
    {
     "name": "stdout",
     "output_type": "stream",
     "text": [
      "[1, 2, 3, 4, 5]\n",
      "[5, 2, 3, 1, 4]\n"
     ]
    }
   ],
   "source": [
    "print(sorted(a))\n",
    "print(a)"
   ]
  },
  {
   "cell_type": "code",
   "execution_count": 8,
   "id": "cathedral-wrestling",
   "metadata": {},
   "outputs": [
    {
     "name": "stdout",
     "output_type": "stream",
     "text": [
      "None\n",
      "[1, 2, 3, 4, 5]\n"
     ]
    }
   ],
   "source": [
    "print(a.sort())\n",
    "print(a)"
   ]
  },
  {
   "cell_type": "code",
   "execution_count": 9,
   "id": "coastal-honor",
   "metadata": {},
   "outputs": [],
   "source": [
    "# .extend()와 .append()\n",
    "#\n",
    "# list.append(x)는 리스트 끝에 x 1개를 그대로 넣습니다.\n",
    "# list.extend(iterable)는 리스트 끝에 가장 바깥쪽 iterable의 모든 항목을 넣습니다."
   ]
  },
  {
   "cell_type": "code",
   "execution_count": 10,
   "id": "opponent-excess",
   "metadata": {},
   "outputs": [
    {
     "name": "stdout",
     "output_type": "stream",
     "text": [
      "x: ['Tick', 'Tock', 'Song', ['Ping', 'Pong']]\n",
      "x: ['Tick', 'Tock', 'Song', 'Ping', 'Pong']\n",
      "x: ['Tick', 'Tock', 'Song', [['Ping', 'Pong']]]\n",
      "x: ['Tick', 'Tock', 'Song', ['Ping', 'Pong']]\n",
      "x: ['Tick', 'Tock', 'Song', 'Ping']\n",
      "x: ['Tick', 'Tock', 'Song', 'P', 'i', 'n', 'g']\n"
     ]
    }
   ],
   "source": [
    "x = ['Tick', 'Tock', 'Song']\n",
    "y = ['Ping', 'Pong']\n",
    "x.append(y)\n",
    "print('x:', x)\n",
    "\n",
    "x = ['Tick', 'Tock', 'Song']\n",
    "y = ['Ping', 'Pong']\n",
    "x.extend(y)\n",
    "print('x:', x)\n",
    "\n",
    "\n",
    "x = ['Tick', 'Tock', 'Song']\n",
    "y = [['Ping', 'Pong']]\n",
    "x.append(y)\n",
    "print('x:', x)\n",
    "\n",
    "x = ['Tick', 'Tock', 'Song']\n",
    "y = [['Ping', 'Pong']]\n",
    "x.extend(y)\n",
    "print('x:', x)\n",
    "\n",
    "\n",
    "x = ['Tick', 'Tock', 'Song']\n",
    "y = 'Ping'\n",
    "x.append(y)\n",
    "print('x:', x)\n",
    "\n",
    "x = ['Tick', 'Tock', 'Song']\n",
    "y = 'Ping'\n",
    "x.extend(y)\n",
    "print('x:', x)"
   ]
  },
  {
   "cell_type": "code",
   "execution_count": 15,
   "id": "accepting-dispute",
   "metadata": {},
   "outputs": [],
   "source": [
    "# 복사가 잘 된 건가?\n",
    "# 할당(단순복사)은 메모리 상의 같은 객체를 바라본다.\n",
    "a = [1, 2, 3, 4, 5]\n",
    "b = a"
   ]
  },
  {
   "cell_type": "code",
   "execution_count": 16,
   "id": "simple-louis",
   "metadata": {},
   "outputs": [],
   "source": [
    "a[2] = 5"
   ]
  },
  {
   "cell_type": "code",
   "execution_count": 17,
   "id": "distinct-train",
   "metadata": {},
   "outputs": [
    {
     "name": "stdout",
     "output_type": "stream",
     "text": [
      "[1, 2, 5, 4, 5]\n",
      "[1, 2, 5, 4, 5]\n"
     ]
    }
   ],
   "source": [
    "print(a)\n",
    "print(b)"
   ]
  },
  {
   "cell_type": "code",
   "execution_count": 18,
   "id": "advanced-continent",
   "metadata": {},
   "outputs": [],
   "source": [
    "# 1차원일때는 얕은 복사\n",
    "# slicing, list, copy module의 copy\n",
    "#\n",
    "# 2차원일때는 깊은 복사\n",
    "# copy module의 deepcopy\n",
    "a = [1, 2, 3]\n",
    "b = a[:]"
   ]
  }
 ],
 "metadata": {
  "kernelspec": {
   "display_name": "Python 3",
   "language": "python",
   "name": "python3"
  },
  "language_info": {
   "codemirror_mode": {
    "name": "ipython",
    "version": 3
   },
   "file_extension": ".py",
   "mimetype": "text/x-python",
   "name": "python",
   "nbconvert_exporter": "python",
   "pygments_lexer": "ipython3",
   "version": "3.8.7"
  }
 },
 "nbformat": 4,
 "nbformat_minor": 5
}
