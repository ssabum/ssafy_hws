{
 "cells": [
  {
   "cell_type": "code",
   "execution_count": 1,
   "id": "driven-taiwan",
   "metadata": {},
   "outputs": [
    {
     "data": {
      "text/plain": [
       "'\\nBuilt-in 함수\\n\\nmax() : 최대값\\nmin() : 최소값\\nround() : 반올림\\nsorted() : 정렬\\nsum() : 합\\nlen() : 길이\\n'"
      ]
     },
     "execution_count": 1,
     "metadata": {},
     "output_type": "execute_result"
    }
   ],
   "source": [
    "'''\n",
    "Built-in 함수\n",
    "\n",
    "max() : 최대값\n",
    "min() : 최소값\n",
    "round() : 반올림\n",
    "sorted() : 정렬\n",
    "sum() : 합\n",
    "len() : 길이\n",
    "'''"
   ]
  },
  {
   "cell_type": "code",
   "execution_count": 3,
   "id": "seventh-massage",
   "metadata": {},
   "outputs": [],
   "source": [
    "# 정중앙 문자\n",
    "def get_middle_char(x):\n",
    "    if len(x) % 2:\n",
    "        return x[len(x) // 2]\n",
    "    else:\n",
    "        return x[len(x) // 2], x[(len(x) // 2) - 1]"
   ]
  },
  {
   "cell_type": "code",
   "execution_count": 5,
   "id": "aging-lottery",
   "metadata": {},
   "outputs": [
    {
     "name": "stdout",
     "output_type": "stream",
     "text": [
      "a\n",
      "('i', 'd')\n"
     ]
    }
   ],
   "source": [
    "print(get_middle_char('ssafy'))\n",
    "print(get_middle_char('coding'))"
   ]
  },
  {
   "cell_type": "code",
   "execution_count": 6,
   "id": "stuck-engineer",
   "metadata": {},
   "outputs": [],
   "source": [
    "# 위치 인자와 키워드 인자\n",
    "def ssafy(name, location='서울'):\n",
    "    print(f'{name}의 지역은 {location}입니다.')"
   ]
  },
  {
   "cell_type": "code",
   "execution_count": 14,
   "id": "intended-husband",
   "metadata": {},
   "outputs": [
    {
     "ename": "SyntaxError",
     "evalue": "positional argument follows keyword argument (<ipython-input-14-d8f1f29631c8>, line 3)",
     "output_type": "error",
     "traceback": [
      "\u001b[1;36m  File \u001b[1;32m\"<ipython-input-14-d8f1f29631c8>\"\u001b[1;36m, line \u001b[1;32m3\u001b[0m\n\u001b[1;33m    ssafy(name='영희','구미')\u001b[0m\n\u001b[1;37m                        ^\u001b[0m\n\u001b[1;31mSyntaxError\u001b[0m\u001b[1;31m:\u001b[0m positional argument follows keyword argument\n"
     ]
    }
   ],
   "source": [
    "# (4) 오류발생 - 이름을 지정한 매개변수 뒤에 가변 매개변수를 정의한 경우\n",
    "# 보기의 '구미'가 name인지 location인지 pc가 인식하지 못하여 오류 발생\n",
    "ssafy(name='영희','구미')"
   ]
  },
  {
   "cell_type": "code",
   "execution_count": 16,
   "id": "refined-america",
   "metadata": {},
   "outputs": [
    {
     "name": "stdout",
     "output_type": "stream",
     "text": [
      "10\n"
     ]
    }
   ],
   "source": [
    "# 나의 반환값은\n",
    "def my_func(a, b):\n",
    "    c = a + b\n",
    "    print(c)\n",
    "\n",
    "result = my_func(3,7)"
   ]
  },
  {
   "cell_type": "code",
   "execution_count": 17,
   "id": "equivalent-stylus",
   "metadata": {},
   "outputs": [
    {
     "name": "stdout",
     "output_type": "stream",
     "text": [
      "None\n"
     ]
    }
   ],
   "source": [
    "print(result)"
   ]
  },
  {
   "cell_type": "code",
   "execution_count": 5,
   "id": "muslim-theta",
   "metadata": {},
   "outputs": [],
   "source": [
    "# 가변 인자 리스트\n",
    "def my_avg(*args):\n",
    "    cnt = 0\n",
    "    sum = 0\n",
    "    for i in args:\n",
    "        cnt += 1\n",
    "        sum += i\n",
    "    res = sum / cnt\n",
    "    \n",
    "    return round(res, 2)"
   ]
  },
  {
   "cell_type": "code",
   "execution_count": 6,
   "id": "endless-knight",
   "metadata": {},
   "outputs": [
    {
     "data": {
      "text/plain": [
       "81.0"
      ]
     },
     "execution_count": 6,
     "metadata": {},
     "output_type": "execute_result"
    }
   ],
   "source": [
    "my_avg(77, 83, 95, 80, 70)"
   ]
  },
  {
   "cell_type": "code",
   "execution_count": 8,
   "id": "stunning-raising",
   "metadata": {},
   "outputs": [],
   "source": [
    "def my_avg(*agrs):\n",
    "    total = 0\n",
    "    for i in agrs:\n",
    "        total += i\n",
    "    return total / len(agrs)"
   ]
  },
  {
   "cell_type": "code",
   "execution_count": 9,
   "id": "experimental-greece",
   "metadata": {},
   "outputs": [
    {
     "data": {
      "text/plain": [
       "81.0"
      ]
     },
     "execution_count": 9,
     "metadata": {},
     "output_type": "execute_result"
    }
   ],
   "source": [
    "my_avg(77, 83, 95, 80, 70)"
   ]
  }
 ],
 "metadata": {
  "kernelspec": {
   "display_name": "Python 3",
   "language": "python",
   "name": "python3"
  },
  "language_info": {
   "codemirror_mode": {
    "name": "ipython",
    "version": 3
   },
   "file_extension": ".py",
   "mimetype": "text/x-python",
   "name": "python",
   "nbconvert_exporter": "python",
   "pygments_lexer": "ipython3",
   "version": "3.8.7"
  },
  "toc": {
   "base_numbering": 1,
   "nav_menu": {},
   "number_sections": true,
   "sideBar": true,
   "skip_h1_title": false,
   "title_cell": "Table of Contents",
   "title_sidebar": "Contents",
   "toc_cell": false,
   "toc_position": {},
   "toc_section_display": true,
   "toc_window_display": false
  }
 },
 "nbformat": 4,
 "nbformat_minor": 5
}
