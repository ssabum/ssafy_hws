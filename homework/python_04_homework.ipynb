{
 "cells": [
  {
   "cell_type": "markdown",
   "id": "trying-serbia",
   "metadata": {},
   "source": [
    "# 이름공간\n",
    ">Python에서 변수를 찾을 때 접근하는 이름 공간을 순서대로 작성하시오."
   ]
  },
  {
   "cell_type": "markdown",
   "id": "executed-parish",
   "metadata": {},
   "source": [
    "함수는 코드 내부에 공간(scope)를 생성합니다. 함수로 생성된 공간은 `지역 스코프(local scope)`라고 불리며, 그 외의 공간인 `전역 스코프(global scope)`와 구분됩니다.\n",
    "\n",
    "* **전역 스코프(`global scope`)**: 코드 어디에서든 참조할 수 있는 공간\n",
    "* **지역 스코프(`local scope`)**: 함수가 만든 스코프로 함수 내부에서만 참조할 수 있는 공간\n",
    "* **전역 변수(`global variable`)**: 전역 스코프에 정의된 변수\n",
    "* **지역 변수(`local variable`)**: 로컬 스코프에 정의된 변수"
   ]
  },
  {
   "cell_type": "markdown",
   "id": "outdoor-vertex",
   "metadata": {},
   "source": [
    "파이썬에서 사용되는 이름(식별자)들은 이름공간(namespace)에 저장되어 있습니다.\n",
    "이것을, `LEGB Rule` 이라고 부르며, 아래와 같은 순서로 이름을 찾아나갑니다.\n",
    "\n",
    "* `L`ocal scope: 정의된 함수\n",
    "* `E`nclosed scope: 상위 함수 \n",
    "* `G`lobal scope: 함수 밖의 변수 혹은 import된 모듈\n",
    "* `B`uilt-in scope: 파이썬안에 내장되어 있는 함수 또는 속성"
   ]
  },
  {
   "cell_type": "markdown",
   "id": "european-affair",
   "metadata": {},
   "source": [
    "# 매개변수와 인자 & 반환\n",
    ">다음 중 옳지 않은 것은\n",
    ">>(1) 함수는 오직 하나의 객체만 반환\n",
    ">>\n",
    ">>(2) 함수에서 return을 작성하지 않으면 None값을 반환\n",
    ">>\n",
    ">>(3) 함수의 매개변수는 선언할 때 값이며, 전달인자는 호출할 때 값\n",
    ">>\n",
    ">>(4) 가변인자를 설정할 때는 앞에 *를 붗이고, 이때 함수내에서는 tuple로 처리"
   ]
  },
  {
   "cell_type": "markdown",
   "id": "quality-trade",
   "metadata": {},
   "source": [
    "(1) 함수는 오직 하나의 객체만 반환\n",
    ">`return a, b`와 같은 형식으로 여러 개의 객체를 반환할 수 있다."
   ]
  },
  {
   "cell_type": "markdown",
   "id": "cleared-court",
   "metadata": {},
   "source": [
    "# 재귀함수\n",
    ">재귀함수를 사용했을 때 얻을 수 있는 장점과 단점을 반복문과 비교하여 작성"
   ]
  },
  {
   "cell_type": "code",
   "execution_count": 1,
   "id": "north-madagascar",
   "metadata": {},
   "outputs": [
    {
     "data": {
      "text/plain": [
       "'\\n재귀함수 사용 이유\\n알고리즘 자체가 재귀적인 표현이 자연스러운 경우\\n변수 사용을 줄여, mutable state를 제거하여 프로그램 오류가 발생할 수 있는 가능성을 줄인다.\\n'"
      ]
     },
     "execution_count": 1,
     "metadata": {},
     "output_type": "execute_result"
    }
   ],
   "source": [
    "'''\n",
    "재귀함수 사용 이유\n",
    "알고리즘 자체가 재귀적인 표현이 자연스러운 경우\n",
    "변수 사용을 줄여, mutable state를 제거하여 프로그램 오류가 발생할 수 있는 가능성을 줄인다.\n",
    "'''\n"
   ]
  }
 ],
 "metadata": {
  "kernelspec": {
   "display_name": "Python 3",
   "language": "python",
   "name": "python3"
  },
  "language_info": {
   "codemirror_mode": {
    "name": "ipython",
    "version": 3
   },
   "file_extension": ".py",
   "mimetype": "text/x-python",
   "name": "python",
   "nbconvert_exporter": "python",
   "pygments_lexer": "ipython3",
   "version": "3.8.7"
  },
  "toc": {
   "base_numbering": 1,
   "nav_menu": {},
   "number_sections": true,
   "sideBar": true,
   "skip_h1_title": false,
   "title_cell": "Table of Contents",
   "title_sidebar": "Contents",
   "toc_cell": false,
   "toc_position": {},
   "toc_section_display": true,
   "toc_window_display": false
  }
 },
 "nbformat": 4,
 "nbformat_minor": 5
}
