{
 "cells": [
  {
   "cell_type": "code",
   "execution_count": 12,
   "id": "changing-filing",
   "metadata": {},
   "outputs": [],
   "source": [
    "# 모음은 몇 개나 있을까?\n",
    "def count_vowels(my_str):\n",
    "    vowels = 'aeiouAEIOU'\n",
    "    cnt = 0\n",
    "    for i in my_str:\n",
    "        if i in vowels:\n",
    "            cnt += 1\n",
    "    return cnt"
   ]
  },
  {
   "cell_type": "code",
   "execution_count": 15,
   "id": "micro-dollar",
   "metadata": {},
   "outputs": [
    {
     "name": "stdout",
     "output_type": "stream",
     "text": [
      "2 3\n"
     ]
    }
   ],
   "source": [
    "print(count_vowels('apple'), count_vowels('banana'))"
   ]
  },
  {
   "cell_type": "code",
   "execution_count": 17,
   "id": "geological-breakdown",
   "metadata": {},
   "outputs": [],
   "source": [
    "# 문자열 조작방법으로 옳지 않은 것은?\n",
    "\n",
    "# (4).strip([chars])은 양쪽에서 해당 문자를 찾아 제거한다, 특정 문자를 지정하지 않으면 오류가 아니라 공백이 제거된다."
   ]
  },
  {
   "cell_type": "code",
   "execution_count": 31,
   "id": "twenty-brunei",
   "metadata": {},
   "outputs": [],
   "source": [
    "# 정사각형만 만들기\n",
    "def only_square_area(list_1, list_2):\n",
    "    tot = []\n",
    "    for i in list_1:\n",
    "        for j in list_2:\n",
    "            if i == j:\n",
    "                tot.append(i**2)\n",
    "    return tot    "
   ]
  },
  {
   "cell_type": "code",
   "execution_count": 33,
   "id": "manufactured-wheel",
   "metadata": {},
   "outputs": [],
   "source": [
    "# # 정사각형만 만들기\n",
    "# def only_square_area2(list_1, list_2):\n",
    "#     for i in list_1:\n",
    "#         a = [i**2 for j in list_2 if i==j]\n",
    "#     return a"
   ]
  },
  {
   "cell_type": "code",
   "execution_count": 32,
   "id": "dedicated-breakdown",
   "metadata": {},
   "outputs": [
    {
     "data": {
      "text/plain": [
       "[1024, 3025]"
      ]
     },
     "execution_count": 32,
     "metadata": {},
     "output_type": "execute_result"
    }
   ],
   "source": [
    "only_square_area([32, 55, 63], [13, 32, 40, 55])"
   ]
  },
  {
   "cell_type": "code",
   "execution_count": 59,
   "id": "metropolitan-wrapping",
   "metadata": {},
   "outputs": [
    {
     "data": {
      "text/plain": [
       "[]"
      ]
     },
     "execution_count": 59,
     "metadata": {},
     "output_type": "execute_result"
    }
   ],
   "source": [
    "# only_square_area2([32, 55, 63], [13, 32, 40, 55])"
   ]
  }
 ],
 "metadata": {
  "hide_input": false,
  "kernelspec": {
   "display_name": "Python 3",
   "language": "python",
   "name": "python3"
  },
  "language_info": {
   "codemirror_mode": {
    "name": "ipython",
    "version": 3
   },
   "file_extension": ".py",
   "mimetype": "text/x-python",
   "name": "python",
   "nbconvert_exporter": "python",
   "pygments_lexer": "ipython3",
   "version": "3.8.7"
  },
  "toc": {
   "base_numbering": 1,
   "nav_menu": {},
   "number_sections": true,
   "sideBar": true,
   "skip_h1_title": false,
   "title_cell": "Table of Contents",
   "title_sidebar": "Contents",
   "toc_cell": false,
   "toc_position": {},
   "toc_section_display": true,
   "toc_window_display": false
  },
  "varInspector": {
   "cols": {
    "lenName": 16,
    "lenType": 16,
    "lenVar": 40
   },
   "kernels_config": {
    "python": {
     "delete_cmd_postfix": "",
     "delete_cmd_prefix": "del ",
     "library": "var_list.py",
     "varRefreshCmd": "print(var_dic_list())"
    },
    "r": {
     "delete_cmd_postfix": ") ",
     "delete_cmd_prefix": "rm(",
     "library": "var_list.r",
     "varRefreshCmd": "cat(var_dic_list()) "
    }
   },
   "types_to_exclude": [
    "module",
    "function",
    "builtin_function_or_method",
    "instance",
    "_Feature"
   ],
   "window_display": false
  }
 },
 "nbformat": 4,
 "nbformat_minor": 5
}
