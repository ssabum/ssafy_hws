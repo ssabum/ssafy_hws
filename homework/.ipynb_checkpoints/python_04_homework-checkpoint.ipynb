{
 "cells": [
  {
   "cell_type": "markdown",
   "id": "vocational-villa",
   "metadata": {},
   "source": [
    "# 이름공간\n",
    ">Python에서 변수를 찾을 때 접근하는 이름 공간을 순서대로 작성하시오."
   ]
  },
  {
   "cell_type": "code",
   "execution_count": null,
   "id": "challenging-database",
   "metadata": {},
   "outputs": [],
   "source": []
  },
  {
   "cell_type": "markdown",
   "id": "retired-diving",
   "metadata": {},
   "source": [
    "# 매개변수와 인자 & 반환\n",
    ">다음 중 옳지 않은 것은\n",
    ">>(1) 함수는 오직 하나의 객체만 반환\n",
    ">>\n",
    ">>(2) 함수에서 return을 작성하지 않으면 None값을 반환\n",
    ">>\n",
    ">>(3) 함수의 매개변수는 선언할 때 값이며, 전달인자는 호출할 때 값\n",
    ">>\n",
    ">>(4) 가변인자를 설정할 때는 앞에 *를 붗이고, 이때 함수내에서는 tuple로 처리"
   ]
  },
  {
   "cell_type": "code",
   "execution_count": null,
   "id": "earlier-alexander",
   "metadata": {},
   "outputs": [],
   "source": []
  },
  {
   "cell_type": "markdown",
   "id": "configured-delaware",
   "metadata": {},
   "source": [
    "# 재귀함수\n",
    ">재귀함수를 사용했을 때 얻을 수 있는 장점과 단점을 반복문과 비교하여 작성"
   ]
  },
  {
   "cell_type": "code",
   "execution_count": null,
   "id": "ordered-salad",
   "metadata": {},
   "outputs": [],
   "source": []
  }
 ],
 "metadata": {
  "kernelspec": {
   "display_name": "Python 3",
   "language": "python",
   "name": "python3"
  },
  "language_info": {
   "codemirror_mode": {
    "name": "ipython",
    "version": 3
   },
   "file_extension": ".py",
   "mimetype": "text/x-python",
   "name": "python",
   "nbconvert_exporter": "python",
   "pygments_lexer": "ipython3",
   "version": "3.8.7"
  },
  "toc": {
   "base_numbering": 1,
   "nav_menu": {},
   "number_sections": true,
   "sideBar": true,
   "skip_h1_title": false,
   "title_cell": "Table of Contents",
   "title_sidebar": "Contents",
   "toc_cell": false,
   "toc_position": {},
   "toc_section_display": true,
   "toc_window_display": false
  }
 },
 "nbformat": 4,
 "nbformat_minor": 5
}
