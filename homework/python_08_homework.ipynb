{
 "cells": [
  {
   "cell_type": "code",
   "execution_count": 2,
   "id": "champion-developer",
   "metadata": {},
   "outputs": [],
   "source": [
    "# 1\n",
    "class Circle:\n",
    "    pi = 3.14\n",
    "    x = 0\n",
    "    y = 0\n",
    "    r = 0\n",
    "    \n",
    "    def __init__(self, r, x, y):\n",
    "        self.r = r\n",
    "        self.x = x\n",
    "        self.y = y\n",
    "        \n",
    "    def area(self):\n",
    "        return self.pi * self.r * self.r\n",
    "    \n",
    "    def circumference(self):\n",
    "        return 2 * self.pi * self.r\n",
    "    \n",
    "    def center(self):\n",
    "        return (self.x, self.y)"
   ]
  },
  {
   "cell_type": "code",
   "execution_count": 3,
   "id": "statewide-armor",
   "metadata": {},
   "outputs": [],
   "source": [
    "p1 = Circle(3, 2, 4)"
   ]
  },
  {
   "cell_type": "code",
   "execution_count": 4,
   "id": "electrical-trigger",
   "metadata": {},
   "outputs": [
    {
     "data": {
      "text/plain": [
       "28.259999999999998"
      ]
     },
     "execution_count": 4,
     "metadata": {},
     "output_type": "execute_result"
    }
   ],
   "source": [
    "p1.area()"
   ]
  },
  {
   "cell_type": "code",
   "execution_count": 5,
   "id": "russian-bridal",
   "metadata": {},
   "outputs": [
    {
     "data": {
      "text/plain": [
       "18.84"
      ]
     },
     "execution_count": 5,
     "metadata": {},
     "output_type": "execute_result"
    }
   ],
   "source": [
    "p1.circumference()"
   ]
  },
  {
   "cell_type": "code",
   "execution_count": 6,
   "id": "female-hearts",
   "metadata": {},
   "outputs": [
    {
     "data": {
      "text/plain": [
       "(2, 4)"
      ]
     },
     "execution_count": 6,
     "metadata": {},
     "output_type": "execute_result"
    }
   ],
   "source": [
    "p1.center()"
   ]
  },
  {
   "cell_type": "code",
   "execution_count": 9,
   "id": "contemporary-stock",
   "metadata": {},
   "outputs": [],
   "source": [
    "# 2\n",
    "class Animal:\n",
    "    # 인스턴스 생성자\n",
    "    def __init__(self, name):\n",
    "        self.name = name\n",
    "    \n",
    "    # walk함수\n",
    "    def walk(self):\n",
    "        print(f'{self.name}! 걷는다!')\n",
    "    \n",
    "    # eat함수\n",
    "    def eat(self):\n",
    "        print(f'{self.name}! 먹는다!')\n",
    "        \n",
    "# animal클래스를 상속받은 dog클래스 생성\n",
    "class Dog(Animal):\n",
    "    # 부모클래스의 생성자 생성을 받아옴\n",
    "    def __init__(self, name):\n",
    "        super().__init__(name)\n",
    "        \n",
    "    # dog클래스의 walk함수\n",
    "    def walk(self):\n",
    "        print(f'{self.name}! 달린다!')\n",
    "        \n",
    "    # dog클래스의 bark함수\n",
    "    def bark(self):\n",
    "        print(f'{self.name}! 짖는다!')\n",
    "        \n",
    "# animal클래스를 상속받은 bird클래스 생성\n",
    "class Bird(Animal):\n",
    "    # 부모클래스의 생성자 생성을 받아옴\n",
    "    def __init__(self, name):\n",
    "        super().__init__(name)\n",
    "    \n",
    "    # bird클래스의 fly함수\n",
    "    def fly(self):\n",
    "        print(f'{self.name}! 푸드덕!')"
   ]
  },
  {
   "cell_type": "code",
   "execution_count": 10,
   "id": "overall-cholesterol",
   "metadata": {},
   "outputs": [
    {
     "name": "stdout",
     "output_type": "stream",
     "text": [
      "멍멍이! 달린다!\n",
      "멍멍이! 짖는다!\n"
     ]
    }
   ],
   "source": [
    "dog = Dog('멍멍이')\n",
    "dog.walk()\n",
    "dog.bark()"
   ]
  },
  {
   "cell_type": "code",
   "execution_count": 11,
   "id": "lightweight-princeton",
   "metadata": {},
   "outputs": [
    {
     "name": "stdout",
     "output_type": "stream",
     "text": [
      "구구! 걷는다!\n",
      "구구! 먹는다!\n",
      "구구! 푸드덕!\n"
     ]
    }
   ],
   "source": [
    "bird = Bird('구구')\n",
    "bird.walk()\n",
    "bird.eat()\n",
    "bird.fly()"
   ]
  },
  {
   "cell_type": "code",
   "execution_count": null,
   "id": "educational-tender",
   "metadata": {},
   "outputs": [],
   "source": [
    "# 오류의 종류\n",
    "'''\n",
    "ZeroDivisionError: 0으로 나눌 수 없음\n",
    "NameError: 참조변수 없음\n",
    "TypeError: 타입 안 맞음\n",
    "IndexError: 인덱스 범위 벗어남\n",
    "KeyError: 키 없음(주로 딕셔너리 사용시)\n",
    "ModuleNotFoundError: 모듈 못 찾음\n",
    "ImportError: import할 대상을 못 찾음\n",
    "'''"
   ]
  }
 ],
 "metadata": {
  "kernelspec": {
   "display_name": "Python 3",
   "language": "python",
   "name": "python3"
  },
  "language_info": {
   "codemirror_mode": {
    "name": "ipython",
    "version": 3
   },
   "file_extension": ".py",
   "mimetype": "text/x-python",
   "name": "python",
   "nbconvert_exporter": "python",
   "pygments_lexer": "ipython3",
   "version": "3.8.7"
  }
 },
 "nbformat": 4,
 "nbformat_minor": 5
}
